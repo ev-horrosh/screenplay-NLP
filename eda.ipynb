{
 "cells": [
  {
   "cell_type": "code",
   "execution_count": 2,
   "metadata": {},
   "outputs": [],
   "source": [
    "import pandas as pd\n",
    "import re\n",
    "import spacy\n",
    "from pdfminer.converter import TextConverter\n",
    "import PyPDF2\n",
    "import requests\n",
    "from bs4 import BeautifulSoup"
   ]
  },
  {
   "cell_type": "code",
   "execution_count": 3,
   "metadata": {},
   "outputs": [],
   "source": [
    "link='https://imsdb.com/scripts/Joker.html'"
   ]
  },
  {
   "cell_type": "code",
   "execution_count": 29,
   "metadata": {},
   "outputs": [],
   "source": [
    "from requests_html import HTMLSession\n",
    "session = HTMLSession()\n",
    "link='https://imsdb.com/scripts/Joker.html'\n",
    "r = session.get(link)"
   ]
  },
  {
   "cell_type": "code",
   "execution_count": null,
   "metadata": {},
   "outputs": [],
   "source": [
    "r=requests.get(link).text\n",
    "\n",
    "soup = BeautifulSoup(r, 'html.parser')\n",
    "raw_text=soup.get_text()[1450:-375]\n",
    "print(raw_text)"
   ]
  },
  {
   "cell_type": "code",
   "execution_count": null,
   "metadata": {},
   "outputs": [],
   "source": [
    "with open('joker.txt', 'w') as f:\n",
    "    f.writelines(raw_text)"
   ]
  },
  {
   "cell_type": "code",
   "execution_count": null,
   "metadata": {},
   "outputs": [],
   "source": [
    "pattern=[\n",
    "    \n",
    "    {\"TEXT\":\"JOKER\"}\n",
    "]"
   ]
  },
  {
   "cell_type": "code",
   "execution_count": null,
   "metadata": {},
   "outputs": [],
   "source": [
    "c={\n",
    "1:\n",
    "    {'characters':\n",
    "        [{'JOKER':\n",
    "            {'dialog':[\n",
    "                '''--is it just me, or is it getting crazier out there?''',\n",
    "                '''Yeah, I mean, it's different each day, so   I really like that. I don't\n",
    "                think I   could ever work in an office.   Behind a desk.''']}},\n",
    "        {'SOCIAL WORKER':\n",
    "            {'dialog':[\n",
    "                '''It's certainly tense. People are upset, they're struggling. Looking\n",
    "                for work. The garbage strike seems like it's been going on forever. \n",
    "                These are tough times. (then) How 'bout you. How's the job? Still enjoying it?''']}}]}\n",
    "        }"
   ]
  },
  {
   "cell_type": "code",
   "execution_count": 57,
   "metadata": {},
   "outputs": [],
   "source": [
    "script={\n",
    "1:{\n",
    "\n",
    "        'dialog':\n",
    "        {\n",
    "        'JOKER':['''--is it just me, or is it getting crazier out there?''',\n",
    "                '''Everyday.''',],\n",
    "\n",
    "        'SOCIAL WORKER':['''It's certainly tense. People are upset, they're struggling. Looking\n",
    "                        for work. The garbage strike seems like it's been going on forever. \n",
    "                        These are tough times. (then) How 'bout you. \n",
    "                        Have you been keeping up with your journal??''',\n",
    "                        '''Great. Did you bring it with you?''',]\n",
    "        },\n",
    "\n",
    "\n",
    "        'action':[\n",
    "                '''HEAR LAUGHTER.The sound of a man totally cracking up.''',\n",
    "                '''CLOSE ON ARTHUR (30's), tears in his eyes from laughing so\n",
    "                hard. He's trying to get it under control. His greasy, black\n",
    "                hair hanging down over his forehead. He's wearing an old,\n",
    "                faded green cardigan sweater, a threadbare gray scarf, thin\n",
    "                from years of use, hangs loosely around his neck.\n",
    "                He's sitting across from an overworked SOCIAL WORKER (50's),\n",
    "                African American. Her office is cramped and run-down in a\n",
    "                cramped and run-down building. Stacks of folders piled high\n",
    "                in front of her.\n",
    "                She just sits behind her desk, waiting for his laughing fit\n",
    "                to end, she's been through this before. Finally it subsides.\n",
    "                Arthur takes a deep breath, pauses to see if it's over.''',\n",
    "                '''Despite the laughter, there's real pain in his eyes.\n",
    "                Something broken in him. Looks like he hasn't slept in days.'''],\n",
    "\n",
    "        'paranthetical':['(on the phone)','(OS)'],\n",
    "        'int/ext':['INT'],\n",
    "        'location':['DEPT. OF HEALTH, OFFICE'],\n",
    "        'tod':['MORNING'],\n",
    "        'transition':['OVER BLACK:','FADE IN:']\n",
    "        },\n",
    "2:{\n",
    "\n",
    "        'dialog':\n",
    "        {\n",
    "        'JOKER':['''Yes ma'am.''',\n",
    "                '''I've been using it as a journal, but also a joke diary.\n",
    "                Funny thoughts or, or observations-- \n",
    "                Did I tell you I'm pursuing a career in stand-up comedy?''',\n",
    "                ''' I think I did.''',\n",
    "                '''I didn't realize you wanted to read it.'''],\n",
    "\n",
    "        'SOCIAL WORKER':[''' Arthur, last time I asked you to bring your journal with you. \n",
    "                        For these appointments. Do you have it?''',\n",
    "                        '''Can I see it?''',\n",
    "                        '''No. You didn't.''']},\n",
    "\n",
    "\n",
    "        'action':[\n",
    "                '''He reluctantly reaches into the pocket of his jacket hanging\n",
    "                on the chair behind him. Pulls out a weathered notebook.\n",
    "                Slides it across to her--''',\n",
    "                '''She's half-listening as she flips through his journal.''',\n",
    "                '''She doesn't respond, keeps flipping through his journal--'''\n",
    "                '''PAGES AND PAGES OF NOTES, neat, angry-looking handwriting.\n",
    "                Also, cut out photos from hardcore pornographic magazines and\n",
    "                some crude handmade drawings. A flash of anger crosses Arthur's face--\n",
    "                The social worker gives him a look, then reads something in\n",
    "                the pages that gives her pause--'''],\n",
    "\n",
    "        'paranthetical':['(dodging the subject)','''(impatient; she doesn'thave time for this)'''],\n",
    "        'int/ext':['INT'],\n",
    "        'location':['DEPT. OF HEALTH, OFFICE','HALL'],\n",
    "        'tod':['MORNING'],\n",
    "        'transition':[]\n",
    "    \n",
    "},\n",
    "\n",
    "\n",
    "}"
   ]
  },
  {
   "cell_type": "code",
   "execution_count": 59,
   "metadata": {},
   "outputs": [],
   "source": [
    "from collections import Counter"
   ]
  },
  {
   "cell_type": "code",
   "execution_count": null,
   "metadata": {},
   "outputs": [],
   "source": []
  },
  {
   "cell_type": "code",
   "execution_count": null,
   "metadata": {},
   "outputs": [],
   "source": []
  },
  {
   "cell_type": "code",
   "execution_count": 60,
   "metadata": {},
   "outputs": [
    {
     "data": {
      "text/plain": [
       "DEPT. OF HEALTH, OFFICE    2\n",
       "HALL                       1\n",
       "dtype: int64"
      ]
     },
     "execution_count": 60,
     "metadata": {},
     "output_type": "execute_result"
    }
   ],
   "source": [
    "#  count locations\n",
    "locs=sum(pd.DataFrame(script).loc['location'].to_list(),[])\n",
    "pd.Series(Counter(locs))"
   ]
  },
  {
   "cell_type": "code",
   "execution_count": 61,
   "metadata": {},
   "outputs": [
    {
     "data": {
      "text/html": [
       "<div>\n",
       "<style scoped>\n",
       "    .dataframe tbody tr th:only-of-type {\n",
       "        vertical-align: middle;\n",
       "    }\n",
       "\n",
       "    .dataframe tbody tr th {\n",
       "        vertical-align: top;\n",
       "    }\n",
       "\n",
       "    .dataframe thead th {\n",
       "        text-align: right;\n",
       "    }\n",
       "</style>\n",
       "<table border=\"1\" class=\"dataframe\">\n",
       "  <thead>\n",
       "    <tr style=\"text-align: right;\">\n",
       "      <th></th>\n",
       "      <th>dialog</th>\n",
       "      <th>action</th>\n",
       "      <th>paranthetical</th>\n",
       "      <th>int/ext</th>\n",
       "      <th>location</th>\n",
       "      <th>tod</th>\n",
       "      <th>transition</th>\n",
       "    </tr>\n",
       "  </thead>\n",
       "  <tbody>\n",
       "    <tr>\n",
       "      <th>1</th>\n",
       "      <td>{'JOKER': ['--is it just me, or is it getting ...</td>\n",
       "      <td>[HEAR LAUGHTER.The sound of a man totally crac...</td>\n",
       "      <td>[(on the phone), (OS)]</td>\n",
       "      <td>[INT]</td>\n",
       "      <td>[DEPT. OF HEALTH, OFFICE]</td>\n",
       "      <td>[MORNING]</td>\n",
       "      <td>[OVER BLACK:, FADE IN:]</td>\n",
       "    </tr>\n",
       "    <tr>\n",
       "      <th>2</th>\n",
       "      <td>{'JOKER': ['Yes ma'am.', 'I've been using it a...</td>\n",
       "      <td>[He reluctantly reaches into the pocket of his...</td>\n",
       "      <td>[(dodging the subject), (impatient; she doesn'...</td>\n",
       "      <td>[INT]</td>\n",
       "      <td>[DEPT. OF HEALTH, OFFICE, HALL]</td>\n",
       "      <td>[MORNING]</td>\n",
       "      <td>[]</td>\n",
       "    </tr>\n",
       "  </tbody>\n",
       "</table>\n",
       "</div>"
      ],
      "text/plain": [
       "                                              dialog  \\\n",
       "1  {'JOKER': ['--is it just me, or is it getting ...   \n",
       "2  {'JOKER': ['Yes ma'am.', 'I've been using it a...   \n",
       "\n",
       "                                              action  \\\n",
       "1  [HEAR LAUGHTER.The sound of a man totally crac...   \n",
       "2  [He reluctantly reaches into the pocket of his...   \n",
       "\n",
       "                                       paranthetical int/ext  \\\n",
       "1                             [(on the phone), (OS)]   [INT]   \n",
       "2  [(dodging the subject), (impatient; she doesn'...   [INT]   \n",
       "\n",
       "                          location        tod               transition  \n",
       "1        [DEPT. OF HEALTH, OFFICE]  [MORNING]  [OVER BLACK:, FADE IN:]  \n",
       "2  [DEPT. OF HEALTH, OFFICE, HALL]  [MORNING]                       []  "
      ]
     },
     "execution_count": 61,
     "metadata": {},
     "output_type": "execute_result"
    }
   ],
   "source": [
    "pd.DataFrame(script).T"
   ]
  },
  {
   "cell_type": "code",
   "execution_count": 370,
   "metadata": {},
   "outputs": [
    {
     "data": {
      "text/plain": [
       "['--is it just me, or is it getting crazier out there?', 'Everyday.', \"Yes ma'am.\", \"I've been using it as a journal, but also a joke diary.\\n         Funny thoughts or, or observations-- \\n         Did I tell you I'm pursuing a career in stand-up comedy?\", ' I think I did.', \"I didn't realize you wanted to read it.\"]"
      ]
     },
     "execution_count": 370,
     "metadata": {},
     "output_type": "execute_result"
    }
   ],
   "source": [
    "sum([pd.DataFrame(script).T['dialog'].tolist()[i]['JOKER'] for i in range(pd.DataFrame(script).T.shape[0])],[])"
   ]
  },
  {
   "cell_type": "code",
   "execution_count": null,
   "metadata": {},
   "outputs": [],
   "source": [
    "print([a.replace('\\n','').replace('  ','').lower() for a in script[1]['action']])"
   ]
  },
  {
   "cell_type": "code",
   "execution_count": null,
   "metadata": {},
   "outputs": [],
   "source": [
    "script[]"
   ]
  },
  {
   "cell_type": "code",
   "execution_count": 396,
   "metadata": {},
   "outputs": [
    {
     "data": {
      "text/html": [
       "<div>\n",
       "<style scoped>\n",
       "    .dataframe tbody tr th:only-of-type {\n",
       "        vertical-align: middle;\n",
       "    }\n",
       "\n",
       "    .dataframe tbody tr th {\n",
       "        vertical-align: top;\n",
       "    }\n",
       "\n",
       "    .dataframe thead th {\n",
       "        text-align: right;\n",
       "    }\n",
       "</style>\n",
       "<table border=\"1\" class=\"dataframe\">\n",
       "  <thead>\n",
       "    <tr style=\"text-align: right;\">\n",
       "      <th></th>\n",
       "      <th>JOKER</th>\n",
       "      <th>SOCIAL WORKER</th>\n",
       "    </tr>\n",
       "  </thead>\n",
       "  <tbody>\n",
       "    <tr>\n",
       "      <th>1</th>\n",
       "      <td>[--is it just me, or is it getting crazier out...</td>\n",
       "      <td>[It's certainly tense. People are upset, they'...</td>\n",
       "    </tr>\n",
       "    <tr>\n",
       "      <th>2</th>\n",
       "      <td>[Yes ma'am., I've been using it as a journal, ...</td>\n",
       "      <td>[ Arthur, last time I asked you to bring your ...</td>\n",
       "    </tr>\n",
       "  </tbody>\n",
       "</table>\n",
       "</div>"
      ],
      "text/plain": [
       "                                               JOKER  \\\n",
       "1  [--is it just me, or is it getting crazier out...   \n",
       "2  [Yes ma'am., I've been using it as a journal, ...   \n",
       "\n",
       "                                       SOCIAL WORKER  \n",
       "1  [It's certainly tense. People are upset, they'...  \n",
       "2  [ Arthur, last time I asked you to bring your ...  "
      ]
     },
     "execution_count": 396,
     "metadata": {},
     "output_type": "execute_result"
    }
   ],
   "source": [
    "pd.DataFrame(script).T['dialog'].apply(pd.Series)\n"
   ]
  },
  {
   "cell_type": "code",
   "execution_count": 398,
   "metadata": {},
   "outputs": [],
   "source": [
    "import json"
   ]
  },
  {
   "cell_type": "code",
   "execution_count": 406,
   "metadata": {},
   "outputs": [
    {
     "data": {
      "text/plain": [
       "['HEAR LAUGHTER.The sound of a man totally cracking up.', \"CLOSE ON ARTHUR (30's), tears in his eyes from laughing so\\n        hard. He's trying to get it under control. His greasy, black\\n        hair hanging down over his forehead. He's wearing an old,\\n        faded green cardigan sweater, a threadbare gray scarf, thin\\n        from years of use, hangs loosely around his neck.\\n        He's sitting across from an overworked SOCIAL WORKER (50's),\\n        African American. Her office is cramped and run-down in a\\n        cramped and run-down building. Stacks of folders piled high\\n        in front of her.\\n        She just sits behind her desk, waiting for his laughing fit\\n        to end, she's been through this before. Finally it subsides.\\n        Arthur takes a deep breath, pauses to see if it's over.\", \"Despite the laughter, there's real pain in his eyes.\\n        Something broken in him. Looks like he hasn't slept in days.\"]"
      ]
     },
     "execution_count": 406,
     "metadata": {},
     "output_type": "execute_result"
    }
   ],
   "source": [
    "# pd.DataFrame(script).T['action'].apply(pd.Series.explode)[1]\n",
    "pd.DataFrame(script).T['action'][1]"
   ]
  },
  {
   "cell_type": "code",
   "execution_count": 402,
   "metadata": {},
   "outputs": [
    {
     "data": {
      "text/html": [
       "<div>\n",
       "<style scoped>\n",
       "    .dataframe tbody tr th:only-of-type {\n",
       "        vertical-align: middle;\n",
       "    }\n",
       "\n",
       "    .dataframe tbody tr th {\n",
       "        vertical-align: top;\n",
       "    }\n",
       "\n",
       "    .dataframe thead th {\n",
       "        text-align: right;\n",
       "    }\n",
       "</style>\n",
       "<table border=\"1\" class=\"dataframe\">\n",
       "  <thead>\n",
       "    <tr style=\"text-align: right;\">\n",
       "      <th></th>\n",
       "      <th>action</th>\n",
       "      <th>paranthetical</th>\n",
       "      <th>int/ext</th>\n",
       "      <th>location</th>\n",
       "      <th>tod</th>\n",
       "      <th>transition</th>\n",
       "      <th>dialog.JOKER</th>\n",
       "      <th>dialog.SOCIAL WORKER</th>\n",
       "    </tr>\n",
       "  </thead>\n",
       "  <tbody>\n",
       "    <tr>\n",
       "      <th>0</th>\n",
       "      <td>[HEAR LAUGHTER.The sound of a man totally crac...</td>\n",
       "      <td>[(on the phone), (OS)]</td>\n",
       "      <td>[INT]</td>\n",
       "      <td>[DEPT. OF HEALTH, OFFICE]</td>\n",
       "      <td>[MORNING]</td>\n",
       "      <td>[OVER BLACK:, FADE IN:]</td>\n",
       "      <td>[--is it just me, or is it getting crazier out...</td>\n",
       "      <td>[It's certainly tense. People are upset, they'...</td>\n",
       "    </tr>\n",
       "    <tr>\n",
       "      <th>1</th>\n",
       "      <td>[He reluctantly reaches into the pocket of his...</td>\n",
       "      <td>[(dodging the subject), (impatient; she doesn'...</td>\n",
       "      <td>[INT]</td>\n",
       "      <td>[DEPT. OF HEALTH, OFFICE, HALL]</td>\n",
       "      <td>[MORNING]</td>\n",
       "      <td>[]</td>\n",
       "      <td>[Yes ma'am., I've been using it as a journal, ...</td>\n",
       "      <td>[ Arthur, last time I asked you to bring your ...</td>\n",
       "    </tr>\n",
       "  </tbody>\n",
       "</table>\n",
       "</div>"
      ],
      "text/plain": [
       "                                              action  \\\n",
       "0  [HEAR LAUGHTER.The sound of a man totally crac...   \n",
       "1  [He reluctantly reaches into the pocket of his...   \n",
       "\n",
       "                                       paranthetical int/ext  \\\n",
       "0                             [(on the phone), (OS)]   [INT]   \n",
       "1  [(dodging the subject), (impatient; she doesn'...   [INT]   \n",
       "\n",
       "                          location        tod               transition  \\\n",
       "0        [DEPT. OF HEALTH, OFFICE]  [MORNING]  [OVER BLACK:, FADE IN:]   \n",
       "1  [DEPT. OF HEALTH, OFFICE, HALL]  [MORNING]                       []   \n",
       "\n",
       "                                        dialog.JOKER  \\\n",
       "0  [--is it just me, or is it getting crazier out...   \n",
       "1  [Yes ma'am., I've been using it as a journal, ...   \n",
       "\n",
       "                                dialog.SOCIAL WORKER  \n",
       "0  [It's certainly tense. People are upset, they'...  \n",
       "1  [ Arthur, last time I asked you to bring your ...  "
      ]
     },
     "execution_count": 402,
     "metadata": {},
     "output_type": "execute_result"
    }
   ],
   "source": [
    "pd.json_normalize(json.loads(pd.DataFrame(script).T.to_json(orient='records')))"
   ]
  },
  {
   "cell_type": "code",
   "execution_count": 473,
   "metadata": {},
   "outputs": [],
   "source": [
    "act=[]\n",
    "for i in range(1,len(pd.DataFrame(script).T)+1):\n",
    "    [act.append(l.replace('\\n','').replace('  ','').lower()) for l in pd.DataFrame(script).T['action'][i]]\n",
    "act"
   ]
  },
  {
   "cell_type": "code",
   "execution_count": 56,
   "metadata": {},
   "outputs": [
    {
     "data": {
      "text/html": [
       "<div>\n",
       "<style scoped>\n",
       "    .dataframe tbody tr th:only-of-type {\n",
       "        vertical-align: middle;\n",
       "    }\n",
       "\n",
       "    .dataframe tbody tr th {\n",
       "        vertical-align: top;\n",
       "    }\n",
       "\n",
       "    .dataframe thead th {\n",
       "        text-align: right;\n",
       "    }\n",
       "</style>\n",
       "<table border=\"1\" class=\"dataframe\">\n",
       "  <thead>\n",
       "    <tr style=\"text-align: right;\">\n",
       "      <th></th>\n",
       "      <th>JOKER</th>\n",
       "      <th>social worker</th>\n",
       "    </tr>\n",
       "  </thead>\n",
       "  <tbody>\n",
       "    <tr>\n",
       "      <th>1</th>\n",
       "      <td>[hello how are you?, nice?]</td>\n",
       "      <td>[i am great and you, yeeeee]</td>\n",
       "    </tr>\n",
       "    <tr>\n",
       "      <th>2</th>\n",
       "      <td>[hows everything?]</td>\n",
       "      <td>[it all good, you?]</td>\n",
       "    </tr>\n",
       "  </tbody>\n",
       "</table>\n",
       "</div>"
      ],
      "text/plain": [
       "                         JOKER                 social worker\n",
       "1  [hello how are you?, nice?]  [i am great and you, yeeeee]\n",
       "2           [hows everything?]           [it all good, you?]"
      ]
     },
     "execution_count": 56,
     "metadata": {},
     "output_type": "execute_result"
    }
   ],
   "source": [
    "pd.DataFrame(data).T['dialog'].apply(pd.Series)\n",
    "[i for i in data['dialog']][0]"
   ]
  },
  {
   "cell_type": "code",
   "execution_count": null,
   "metadata": {},
   "outputs": [],
   "source": [
    "'''\n",
    "for word on the page\n",
    "append this word to a page > key (character,ext\\int,location,tod)\n",
    "0\n",
    "\n",
    "'''\n",
    "\n",
    "\n",
    "'''\n",
    "read line\n",
    "CHARACTER:\n",
    "if line is uppercase and doesnt contain EXT/INT/FADEIN/FADE OUT/and  is not a digit/ \n",
    "append it to a current page number under character\n",
    "LOCATION:\n",
    "if line is uppercase contains EXT or INT\n",
    "append to location\n",
    "\n",
    "ACTION:\n",
    "\n",
    "\n",
    "\n",
    "\n",
    "\n",
    "DIALOG\n",
    "\n",
    "'''"
   ]
  },
  {
   "cell_type": "code",
   "execution_count": 139,
   "metadata": {},
   "outputs": [],
   "source": [
    "\n",
    "with open('joker.txt','r') as f:\n",
    "    lines=f.readlines()"
   ]
  },
  {
   "cell_type": "code",
   "execution_count": 276,
   "metadata": {},
   "outputs": [],
   "source": [
    "INT_EXT=['INT.','EXT.','INT/EXT.','EXT/INT.']\n",
    "TOD=['AFTERNOON', 'CONTINUOUS', 'DAWN', 'DAY', 'DUSK', \n",
    "'EVENING', 'LATER', 'MORNING', 'NIGHT', 'NOON', 'SAME']\n",
    "TRANSITIONS=['BACK TO:', 'CUT TO:', 'DISSOLVE TO:', 'FADE IN:',\n",
    " 'FADE OUT:', 'FADE TO:', 'JUMP CUT TO:', 'MATCH CUT TO:',\n",
    " 'SMASH CUT TO:', 'TIME CUT:', 'WIPE TO:','CROSSFADE:','OVER BLACK:',\n",
    " 'FADE TO:BLACK','FLASH CUT:','LAP DISSOLVE:','MATCH DISSOLVE TO:','SUPER:','IRIS OUT:']\n",
    "SHOTS=['AERIAL SHOT', 'ANGLE ON',  'CLOSE ON', 'CLOSER ANGLE', 'CONTINUOUS',   \n",
    "       'CONTRAZOOM', 'CRAWL',  'ESTABLISHING SHOT', \n",
    "       'EXTREMELY LONG SHOT (XLS):', 'FAVOR ON', \n",
    "       'FLASHBACK:', 'FREEZE FRAME:', 'INSERT', \n",
    "       'INTO FRAME:', 'INTO VIEW:', 'MOS', 'O.C. / O.S.', \n",
    "       'POV', 'PULL BACK:', 'PULL FOCUS:', 'PUSH IN:',\n",
    "       'REVERSE ANGLE',  'SPLIT SCREEN SHOT:', 'STOCK SHOT:',\n",
    "       'TIGHT ON', 'TIME CUT', 'V.O.', 'ZOOM:']"
   ]
  },
  {
   "cell_type": "code",
   "execution_count": null,
   "metadata": {},
   "outputs": [],
   "source": [
    "sample_text=[l for l in lines if not l.isspace()]\n",
    "sample_text"
   ]
  },
  {
   "cell_type": "code",
   "execution_count": null,
   "metadata": {},
   "outputs": [],
   "source": [
    "[ele for ele in listA if(ele in data_string)]"
   ]
  },
  {
   "cell_type": "code",
   "execution_count": 455,
   "metadata": {},
   "outputs": [
    {
     "name": "stdout",
     "output_type": "stream",
     "text": [
      "INT. DEPT. OF HEALTH, OFFICE - MORNING\n",
      "EXT. GOTHAM SQUARE, MIDTOWN - KENNY'S MUSIC SHOP - DAY\n",
      "EXT. CORNER, SIDE STREET - GOTHAM SQUARE - CONTINUOUS\n",
      "INT. CITY BUS (PULLING OUT) - HEADING DOWNTOWN - DUSK\n",
      "EXT. LOWER EAST SIDE, STREETS - GOTHAM - EVENING\n",
      "INT. LOBBY, APARTMENT BUILDING - EVENING\n",
      "INT. ELEVATOR, APARTMENT BUILDING - CONTINUOUS\n",
      "INT. MOM'S APARTMENT, FRONT DOOR - EVENING\n",
      "INT. MOM'S BEDROOM, APARTMENT - NIGHT\n",
      "INT. LIVING ROOM, MOM'S APARTMENT - NIGHT\n",
      "EXT. WAYNE TOWER, STREET - MIDTOWN - MORNING\n",
      "INT. RECEPTION, WAYNE ENTERPRISES - 25TH FLOOR - MORNING\n",
      "EXT. WAYNE TOWER, FRONT ENTRANCE - MORNING\n",
      "INT. HA-HA'S TALENT BOOKING, LOCKER ROOM - DAY\n",
      "INT. FRONT OFFICE, HA-HA'S TALENT BOOKING - DAY\n",
      "EXT. BACK ALLEY, OUTSIDE HA-HA'S - AMUSEMENT MILE - DAY\n",
      "INT. CITY BUS (MOVING) - DUSK\n",
      "EXT. GOTHAM, LOWER EAST SIDE - EVENING\n",
      "INT. LOBBY, APARTMENT BUILDING - EVENING\n",
      "INT. ELEVATOR, APARTMENT BUILDING - CONTINUOUS\n",
      "INT. MOM'S APARTMENT, BATHROOM - NIGHT\n",
      "INT. MOM'S BEDROOM, APARTMENT - LATE NIGHT\n",
      "INT. LIVING ROOM, MOM'S APARTMENT - CONTINUOUS\n",
      "INT. MOM'S BEDROOM, DOORWAY - CONTINUOUS\n",
      "INT. KITCHEN, MOM'S APARTMENT - LATE NIGHT\n",
      "EXT. STREET, LOWER EAST SIDE - MORNING\n",
      "EXT. PUBLIC SCHOOL - MORNING\n",
      "EXT. ELEVATED SUBWAY PLATFORM - MORNING\n",
      "INT. SUBWAY (MOVING) - MORNING\n",
      "EXT. STREET, UPPER EAST SIDE - MORNING\n",
      "INT. GOTHAM FIRST NATIONAL - LATER\n",
      "INT. GOTHAM COMEDY CLUB, CHINATOWN - NIGHT\n",
      "EXT. GOTHAM COMEDY CLUB, STREET - CHINATOWN - NIGHT\n",
      "INT. HA-HA'S TALENT BOOKING, LOCKER ROOM - DAY\n",
      "INT. GOTHAM GENERAL - CHILDREN'S WARD - EVENING\n",
      "INT. LOBBY, GOTHAM GENERAL - LATER\n",
      "INT. SUBWAY (MOVING) - NIGHT\n"
     ]
    }
   ],
   "source": [
    "for i in [e.strip() for e in sample_text if e.isupper() and e not in TRANSITIONS]:\n",
    "   for item in i.split():\n",
    "       if item in INT_EXT:\n",
    "           print(' '.join([x for x in i.split() if not x.isdigit()]))\n",
    "        #    print([x for x in i.split() if not x.isdigit()])\n",
    "        #    print(i.split('-'))\n",
    "        \n",
    "     "
   ]
  },
  {
   "cell_type": "code",
   "execution_count": null,
   "metadata": {},
   "outputs": [],
   "source": []
  }
 ],
 "metadata": {
  "interpreter": {
   "hash": "a5f6085926496a50e79cd019ce9612e2f626b8ce0f0c79905112ce929c19eca7"
  },
  "kernelspec": {
   "display_name": "Python 3.9.5 ('venv': venv)",
   "language": "python",
   "name": "python3"
  },
  "language_info": {
   "codemirror_mode": {
    "name": "ipython",
    "version": 3
   },
   "file_extension": ".py",
   "mimetype": "text/x-python",
   "name": "python",
   "nbconvert_exporter": "python",
   "pygments_lexer": "ipython3",
   "version": "3.9.5"
  },
  "orig_nbformat": 4
 },
 "nbformat": 4,
 "nbformat_minor": 2
}

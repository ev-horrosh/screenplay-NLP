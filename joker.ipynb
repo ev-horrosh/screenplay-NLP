{
  "cells": [
    {
      "cell_type": "code",
      "execution_count": null,
      "metadata": {
        "colab": {
          "base_uri": "https://localhost:8080/"
        },
        "id": "EIaQJ7eKbNMx",
        "outputId": "18901de2-3591-4059-ae5a-df3e800fad97"
      },
      "outputs": [],
      "source": [
        "!pip install PyPDF2\n",
        "!pip install pdfminer\n"
      ]
    },
    {
      "cell_type": "code",
      "execution_count": null,
      "metadata": {
        "id": "kh0M5qxUsh2l"
      },
      "outputs": [],
      "source": [
        "link='https://imsdb.com/scripts/Joker.html'"
      ]
    },
    {
      "cell_type": "code",
      "execution_count": null,
      "metadata": {
        "id": "e-PRpusssnvU"
      },
      "outputs": [],
      "source": [
        "import requests\n",
        "import json\n",
        "import re\n",
        "import pandas as pd\n",
        "pd.options.display.max_rows = 999"
      ]
    },
    {
      "cell_type": "code",
      "execution_count": null,
      "metadata": {
        "colab": {
          "base_uri": "https://localhost:8080/",
          "height": 339
        },
        "id": "zssCHoWQs7bO",
        "outputId": "500fc38c-6035-413d-cbd5-cf2375dd3d6e"
      },
      "outputs": [
        {
          "ename": "TypeError",
          "evalue": "ignored",
          "output_type": "error",
          "traceback": [
            "\u001b[0;31m---------------------------------------------------------------------------\u001b[0m",
            "\u001b[0;31mTypeError\u001b[0m                                 Traceback (most recent call last)",
            "\u001b[0;32m<ipython-input-7-8777d5441e1c>\u001b[0m in \u001b[0;36m<module>\u001b[0;34m()\u001b[0m\n\u001b[1;32m      1\u001b[0m \u001b[0mr\u001b[0m\u001b[0;34m=\u001b[0m\u001b[0mrequests\u001b[0m\u001b[0;34m.\u001b[0m\u001b[0mget\u001b[0m\u001b[0;34m(\u001b[0m\u001b[0mlink\u001b[0m\u001b[0;34m,\u001b[0m\u001b[0mheaders\u001b[0m\u001b[0;34m=\u001b[0m\u001b[0;34m{\u001b[0m\u001b[0;34m'Accept'\u001b[0m\u001b[0;34m:\u001b[0m\u001b[0;34m'text/html'\u001b[0m\u001b[0;34m}\u001b[0m\u001b[0;34m)\u001b[0m\u001b[0;34m\u001b[0m\u001b[0;34m\u001b[0m\u001b[0m\n\u001b[1;32m      2\u001b[0m \u001b[0;32mfrom\u001b[0m \u001b[0mbs4\u001b[0m \u001b[0;32mimport\u001b[0m \u001b[0mBeautifulSoup\u001b[0m\u001b[0;34m\u001b[0m\u001b[0;34m\u001b[0m\u001b[0m\n\u001b[0;32m----> 3\u001b[0;31m \u001b[0msoup\u001b[0m \u001b[0;34m=\u001b[0m \u001b[0mBeautifulSoup\u001b[0m\u001b[0;34m(\u001b[0m\u001b[0mr\u001b[0m\u001b[0;34m,\u001b[0m \u001b[0;34m'html.parser'\u001b[0m\u001b[0;34m)\u001b[0m\u001b[0;34m\u001b[0m\u001b[0;34m\u001b[0m\u001b[0m\n\u001b[0m\u001b[1;32m      4\u001b[0m \u001b[0mraw_text\u001b[0m\u001b[0;34m=\u001b[0m\u001b[0msoup\u001b[0m\u001b[0;34m.\u001b[0m\u001b[0mget_text\u001b[0m\u001b[0;34m(\u001b[0m\u001b[0;34m)\u001b[0m\u001b[0;34m[\u001b[0m\u001b[0;36m2010\u001b[0m\u001b[0;34m:\u001b[0m\u001b[0;34m-\u001b[0m\u001b[0;36m350\u001b[0m\u001b[0;34m]\u001b[0m\u001b[0;34m\u001b[0m\u001b[0;34m\u001b[0m\u001b[0m\n",
            "\u001b[0;32m/usr/local/lib/python3.7/dist-packages/bs4/__init__.py\u001b[0m in \u001b[0;36m__init__\u001b[0;34m(self, markup, features, builder, parse_only, from_encoding, exclude_encodings, **kwargs)\u001b[0m\n\u001b[1;32m    244\u001b[0m         \u001b[0;32mif\u001b[0m \u001b[0mhasattr\u001b[0m\u001b[0;34m(\u001b[0m\u001b[0mmarkup\u001b[0m\u001b[0;34m,\u001b[0m \u001b[0;34m'read'\u001b[0m\u001b[0;34m)\u001b[0m\u001b[0;34m:\u001b[0m        \u001b[0;31m# It's a file-type object.\u001b[0m\u001b[0;34m\u001b[0m\u001b[0;34m\u001b[0m\u001b[0m\n\u001b[1;32m    245\u001b[0m             \u001b[0mmarkup\u001b[0m \u001b[0;34m=\u001b[0m \u001b[0mmarkup\u001b[0m\u001b[0;34m.\u001b[0m\u001b[0mread\u001b[0m\u001b[0;34m(\u001b[0m\u001b[0;34m)\u001b[0m\u001b[0;34m\u001b[0m\u001b[0;34m\u001b[0m\u001b[0m\n\u001b[0;32m--> 246\u001b[0;31m         elif len(markup) <= 256 and (\n\u001b[0m\u001b[1;32m    247\u001b[0m                 \u001b[0;34m(\u001b[0m\u001b[0misinstance\u001b[0m\u001b[0;34m(\u001b[0m\u001b[0mmarkup\u001b[0m\u001b[0;34m,\u001b[0m \u001b[0mbytes\u001b[0m\u001b[0;34m)\u001b[0m \u001b[0;32mand\u001b[0m \u001b[0;32mnot\u001b[0m \u001b[0;34mb'<'\u001b[0m \u001b[0;32min\u001b[0m \u001b[0mmarkup\u001b[0m\u001b[0;34m)\u001b[0m\u001b[0;34m\u001b[0m\u001b[0;34m\u001b[0m\u001b[0m\n\u001b[1;32m    248\u001b[0m                 \u001b[0;32mor\u001b[0m \u001b[0;34m(\u001b[0m\u001b[0misinstance\u001b[0m\u001b[0;34m(\u001b[0m\u001b[0mmarkup\u001b[0m\u001b[0;34m,\u001b[0m \u001b[0mstr\u001b[0m\u001b[0;34m)\u001b[0m \u001b[0;32mand\u001b[0m \u001b[0;32mnot\u001b[0m \u001b[0;34m'<'\u001b[0m \u001b[0;32min\u001b[0m \u001b[0mmarkup\u001b[0m\u001b[0;34m)\u001b[0m\u001b[0;34m\u001b[0m\u001b[0;34m\u001b[0m\u001b[0m\n",
            "\u001b[0;31mTypeError\u001b[0m: object of type 'Response' has no len()"
          ]
        }
      ],
      "source": [
        "r=requests.get(link,headers={'Accept':'text/html'})\n",
        "from bs4 import BeautifulSoup\n",
        "soup = BeautifulSoup(r, 'html.parser')\n",
        "raw_text=soup.get_text()[2010:-350]"
      ]
    },
    {
      "cell_type": "code",
      "execution_count": null,
      "metadata": {
        "colab": {
          "base_uri": "https://localhost:8080/",
          "height": 122
        },
        "id": "I0nDEZSc9HNI",
        "outputId": "90f1edf2-d05a-4b6a-8a8b-8650a7cd24b4"
      },
      "outputs": [],
      "source": [
        "r.text"
      ]
    },
    {
      "cell_type": "code",
      "execution_count": null,
      "metadata": {
        "colab": {
          "base_uri": "https://localhost:8080/",
          "height": 35
        },
        "id": "rN5Kkl0f66Md",
        "outputId": "21fb8e66-830a-45e5-8a85-5b001aa83dd6"
      },
      "outputs": [
        {
          "data": {
            "application/vnd.google.colaboratory.intrinsic+json": {
              "type": "string"
            },
            "text/plain": [
              "'text/html; charset=UTF-8'"
            ]
          },
          "execution_count": 24,
          "metadata": {},
          "output_type": "execute_result"
        }
      ],
      "source": [
        "r.headers['Content-Type']\n",
        "r.headers.get('content-type')"
      ]
    },
    {
      "cell_type": "code",
      "execution_count": null,
      "metadata": {
        "colab": {
          "base_uri": "https://localhost:8080/",
          "height": 165
        },
        "id": "0I5Q1aPvxQZo",
        "outputId": "988c6650-d6e1-4020-9d72-60adcd9b46c6"
      },
      "outputs": [
        {
          "ename": "NameError",
          "evalue": "ignored",
          "output_type": "error",
          "traceback": [
            "\u001b[0;31m---------------------------------------------------------------------------\u001b[0m",
            "\u001b[0;31mNameError\u001b[0m                                 Traceback (most recent call last)",
            "\u001b[0;32m<ipython-input-5-cbfdcaf8e2a9>\u001b[0m in \u001b[0;36m<module>\u001b[0;34m()\u001b[0m\n\u001b[0;32m----> 1\u001b[0;31m \u001b[0mprint\u001b[0m\u001b[0;34m(\u001b[0m\u001b[0mraw_text\u001b[0m\u001b[0;34m)\u001b[0m\u001b[0;34m\u001b[0m\u001b[0;34m\u001b[0m\u001b[0m\n\u001b[0m",
            "\u001b[0;31mNameError\u001b[0m: name 'raw_text' is not defined"
          ]
        }
      ],
      "source": [
        "print(raw_text)"
      ]
    },
    {
      "cell_type": "code",
      "execution_count": null,
      "metadata": {
        "id": "OxuntPtl0J6J"
      },
      "outputs": [],
      "source": [
        "# character=re.findall(r'\\S[A-Z].+\\b',raw_text,flags=re.M)\n",
        "character=re.findall(r'[A-Z][^a-z]+?$\\s',raw_text,flags=re.M)"
      ]
    },
    {
      "cell_type": "code",
      "execution_count": null,
      "metadata": {
        "id": "xTaN2r5q2Kf2"
      },
      "outputs": [],
      "source": [
        "[i.strip('\\n').strip('\\r').strip() for i in character]"
      ]
    },
    {
      "cell_type": "code",
      "execution_count": null,
      "metadata": {
        "id": "g8nR4LFv1UN0"
      },
      "outputs": [],
      "source": [
        "characters=pd.DataFrame(character,columns=['character']).value_counts()"
      ]
    },
    {
      "cell_type": "code",
      "execution_count": null,
      "metadata": {
        "id": "_zA_mFT9iYWl"
      },
      "outputs": [],
      "source": [
        "characters[characters>2]"
      ]
    },
    {
      "cell_type": "code",
      "execution_count": null,
      "metadata": {
        "id": "UsC5aYB20b-s"
      },
      "outputs": [],
      "source": [
        "locations=[re.findall(r\"INT\\. .+\\D\\S\\b|EXT\\. .+\\D\\S\\b\",i) for i in character]"
      ]
    },
    {
      "cell_type": "code",
      "execution_count": null,
      "metadata": {
        "id": "xcRuQMif8ULg"
      },
      "outputs": [],
      "source": [
        "locations"
      ]
    },
    {
      "cell_type": "code",
      "execution_count": null,
      "metadata": {
        "id": "Y2yrfb2773dk"
      },
      "outputs": [],
      "source": [
        "locations_=[i for i in locations if i!=[]]"
      ]
    },
    {
      "cell_type": "code",
      "execution_count": null,
      "metadata": {
        "id": "6KWvxLrU8nE8"
      },
      "outputs": [],
      "source": [
        "locations_df=pd.DataFrame(locations_,columns=['locations'])"
      ]
    },
    {
      "cell_type": "code",
      "execution_count": null,
      "metadata": {
        "id": "j4bC31A5_qdP"
      },
      "outputs": [],
      "source": [
        "locations_df.sort_values(by='place')"
      ]
    },
    {
      "cell_type": "code",
      "execution_count": null,
      "metadata": {
        "id": "llDGlLI09oH9"
      },
      "outputs": [],
      "source": [
        "locations_df['int_ext']=locations_df['locations'].str.extract(r'(INT\\.|EXT\\.)')\n",
        "locations_df['location']=[i[5:].split('-')[0] for i in locations_df['locations']]\n",
        "locations_df['time_of_day']=[i[5:].split('-')[-1] for i in locations_df['locations']]\n"
      ]
    },
    {
      "cell_type": "code",
      "execution_count": null,
      "metadata": {
        "id": "nhCH95Z9CLts"
      },
      "outputs": [],
      "source": [
        "locations_df['place']=[i.split(',')[0] for i in locations_df['location']]\n",
        "# locations_df['area']=[i.split(',')[1] for i in locations_df['location']]"
      ]
    },
    {
      "cell_type": "code",
      "execution_count": null,
      "metadata": {
        "id": "-2DPhtvjsUU8"
      },
      "outputs": [],
      "source": [
        "'\\b^\\d+\\b' # scene number\n",
        "'\\d+\\.(?=\\s)' #page number\n"
      ]
    },
    {
      "cell_type": "code",
      "execution_count": null,
      "metadata": {
        "colab": {
          "base_uri": "https://localhost:8080/"
        },
        "id": "263UKg6RC28v",
        "outputId": "86052ed2-e36f-4b02-88e1-4b0216bc1e07"
      },
      "outputs": [
        {
          "data": {
            "text/plain": [
              " CONTINUOUS                                       33\n",
              " NIGHT                                            26\n",
              " MORNING                                          20\n",
              " EVENING                                          10\n",
              " LATE AFTERNOON                                    7\n",
              " DAY                                               5\n",
              " DUSK                                              4\n",
              " LATER                                             3\n",
              " AFTERNOON                                         3\n",
              " LATE NIGHT                                        2\n",
              " EARLY MORNING                                     2\n",
              " NEXT AFTERNOON                                    1\n",
              " SECONDS LATER                                     1\n",
              " MAGIC HOUR                                        1\n",
              " COUNTRYSIDE, OUTSIDE GOTHAM                       1\n",
              " EVENING                    8                      1\n",
              " NIGHT                         9                   1\n",
              " CONTINUOUS            3                           1\n",
              " DUSK            4                                 1\n",
              " DAY         2                                     1\n",
              " EVENING                                     5     1\n",
              " EVENING                        6                  1\n",
              " CONTINUOUS                  7                     1\n",
              " MORNING                          1                1\n",
              "Name: time_of_day, dtype: int64"
            ]
          },
          "execution_count": 63,
          "metadata": {},
          "output_type": "execute_result"
        }
      ],
      "source": [
        "locations_df['time_of_day'].value_counts()"
      ]
    },
    {
      "cell_type": "code",
      "execution_count": null,
      "metadata": {
        "colab": {
          "base_uri": "https://localhost:8080/"
        },
        "id": "L6azKWzn9H4U",
        "outputId": "c976df5a-32f3-4178-dde4-b2c737da9259"
      },
      "outputs": [
        {
          "data": {
            "text/plain": [
              "[['INT. DEPT. OF HEALTH', ' OFFICE - MORNING                          1'],\n",
              " ['EXT. GOTHAM SQUARE', \" MIDTOWN - KENNY'S MUSIC SHOP - DAY         2\"],\n",
              " ['EXT. CORNER', ' SIDE STREET - GOTHAM SQUARE - CONTINUOUS            3'],\n",
              " ['INT. CITY BUS (PULLING OUT) - HEADING DOWNTOWN - DUSK            4'],\n",
              " ['EXT. LOWER EAST SIDE',\n",
              "  ' STREETS - GOTHAM - EVENING                                     5'],\n",
              " ['INT. LOBBY', ' APARTMENT BUILDING - EVENING                        6'],\n",
              " ['INT. ELEVATOR', ' APARTMENT BUILDING - CONTINUOUS                  7'],\n",
              " [\"INT. MOM'S APARTMENT\", ' FRONT DOOR - EVENING                    8'],\n",
              " [\"INT. MOM'S BEDROOM\", ' APARTMENT - NIGHT                         9'],\n",
              " ['INT. LIVING ROOM', \" MOM'S APARTMENT - NIGHT\"],\n",
              " ['EXT. WAYNE TOWER', ' STREET - MIDTOWN - MORNING'],\n",
              " ['INT. RECEPTION', ' WAYNE ENTERPRISES - 25TH FLOOR - MORNING'],\n",
              " ['EXT. WAYNE TOWER', ' FRONT ENTRANCE - MORNING'],\n",
              " [\"INT. HA-HA'S TALENT BOOKING\", ' LOCKER ROOM - DAY'],\n",
              " ['INT. FRONT OFFICE', \" HA-HA'S TALENT BOOKING - DAY\"],\n",
              " ['EXT. BACK ALLEY', \" OUTSIDE HA-HA'S - AMUSEMENT MILE - DAY\"],\n",
              " ['INT. CITY BUS (MOVING) - DUSK'],\n",
              " ['EXT. GOTHAM', ' LOWER EAST SIDE - EVENING'],\n",
              " ['INT. LOBBY', ' APARTMENT BUILDING - EVENING'],\n",
              " ['INT. ELEVATOR', ' APARTMENT BUILDING - CONTINUOUS'],\n",
              " [\"INT. MOM'S APARTMENT\", ' BATHROOM - NIGHT'],\n",
              " [\"INT. MOM'S BEDROOM\", ' APARTMENT - LATE NIGHT'],\n",
              " ['INT. LIVING ROOM', \" MOM'S APARTMENT - CONTINUOUS\"],\n",
              " [\"INT. MOM'S BEDROOM\", ' DOORWAY - CONTINUOUS'],\n",
              " ['INT. KITCHEN', \" MOM'S APARTMENT - LATE NIGHT\"],\n",
              " ['EXT. STREET', ' LOWER EAST SIDE - MORNING'],\n",
              " ['EXT. PUBLIC SCHOOL - MORNING'],\n",
              " ['EXT. ELEVATED SUBWAY PLATFORM - MORNING'],\n",
              " ['INT. SUBWAY (MOVING) - MORNING'],\n",
              " ['EXT. STREET', ' UPPER EAST SIDE - MORNING'],\n",
              " ['INT. GOTHAM FIRST NATIONAL - LATER'],\n",
              " ['INT. GOTHAM COMEDY CLUB', ' CHINATOWN - NIGHT'],\n",
              " ['EXT. GOTHAM COMEDY CLUB', ' STREET - CHINATOWN - NIGHT'],\n",
              " [\"INT. HA-HA'S TALENT BOOKING\", ' LOCKER ROOM - DAY'],\n",
              " [\"INT. GOTHAM GENERAL - CHILDREN'S WARD - EVENING\"],\n",
              " ['INT. LOBBY', ' GOTHAM GENERAL - LATER'],\n",
              " ['INT. SUBWAY (MOVING) - NIGHT'],\n",
              " ['EXT. SUBWAY PLATFORM - CONTINUOUS'],\n",
              " ['EXT. STREET', ' ROBINSON SQUARE PARK - NIGHT'],\n",
              " ['INT. PUBLIC BATHROOM', ' ROBINSON SQUARE PARK - NIGHT'],\n",
              " ['INT. APARTMENT BUILDING', ' LOBBY - LATER'],\n",
              " ['INT. HALLWAY', ' APARTMENT BUILDING - CONTINUOUS'],\n",
              " ['INT. DEPT. OF HEALTH', ' OFFICE - MORNING'],\n",
              " [\"INT. MOM'S APARTMENT\", ' KITCHEN - MORNING'],\n",
              " [\"INT. MOM'S BEDROOM\", ' APARTMENT - CONTINUOUS'],\n",
              " ['INT. COMEDY CLUB', ' BACKSTAGE HALLWAY - NIGHT'],\n",
              " ['EXT. COMEDY CLUB', ' CHINATOWN STREET - NIGHT'],\n",
              " ['INT. SZECHUAN ACE RESTAURANT', ' TABLE - NIGHT'],\n",
              " [\"INT. MOM'S APARTMENT\", ' LIVING ROOM - NIGHT'],\n",
              " [\"INT. MOM'S BEDROOM\", ' APARTMENT - EARLY MORNING'],\n",
              " ['EXT. BOARDWALK', ' AMUSEMENT MILE - MORNING'],\n",
              " [\"INT. HA-HA'S TALENT BOOKING\", ' LOCKER ROOM - MORNING'],\n",
              " [\"EXT. HA-HA'S\", ' BACK ALLEY - AMUSEMENT MILE BOARDWALK - MORNING'],\n",
              " ['INT. METRO TRAIN (MOVING) - COUNTRYSIDE', ' OUTSIDE GOTHAM'],\n",
              " ['INT. TAXI CAB (MOVING)', ' COUNTRYSIDE - AFTERNOON'],\n",
              " ['EXT. WAYNE MANOR', ' FRONT LAWN - MAGIC HOUR'],\n",
              " ['EXT. LOWER EAST SIDE', ' STREETS - NIGHT'],\n",
              " ['EXT. STREET', ' APARTMENT BUILDING - NIGHT'],\n",
              " ['INT. CITY AMBULANCE', ' BACK (PARKED) - NIGHT'],\n",
              " ['INT. CITY HOSPITAL', ' EMERGENCY TREATMENT ROOM - NIGHT'],\n",
              " ['EXT. CITY HOSPITAL', ' ER - NIGHT'],\n",
              " ['INT. HALLWAY', \" NURSE'S STATION - CITY HOSPITAL - NIGHT\"],\n",
              " ['INT. PATIENT BAY', ' EMERGENCY TREATMENT ROOM - NIGHT'],\n",
              " ['INT. CAFETERIA', ' CITY HOSPITAL - EARLY MORNING'],\n",
              " ['EXT. CENTER FOR PERFORMING ARTS', ' WAYNE HALL - UPTOWN - DUSK'],\n",
              " ['EXT. WAYNE HALL', ' FRONT ENTRANCE - EVENING'],\n",
              " ['INT. LOBBY', ' WAYNE HALL - EVENING'],\n",
              " ['INT. BACK OF THEATER', ' WAYNE HALL - EVENING'],\n",
              " ['INT. LOBBY', ' WAYNE HALL - CONTINUOUS'],\n",
              " ['INT. HALLWAY', \" MEN'S ROOM - WAYNE HALL - SECONDS LATER\"],\n",
              " [\"INT. MEN'S ROOM\", ' WAYNE HALL - CONTINUOUS'],\n",
              " ['EXT. WAYNE HALL', ' FRONT ENTRANCE - PLAZA - NIGHT'],\n",
              " ['INT. APARTMENT BUILDING', ' HALLWAY - NIGHT'],\n",
              " [\"INT. SOPHIE'S APARTMENT\", ' FRONT HALL - CONTINUOUS'],\n",
              " ['INT. HALLWAY', ' APARTMENT BUILDING - NIGHT'],\n",
              " ['EXT. ARKHAM STATE HOSPITAL - MORNING'],\n",
              " ['INT. ARKHAM STATE HOSPITAL - ADMINISTRATIVE OFFICE - MORNING'],\n",
              " ['INT. HALLWAY', ' ARKHAM STATE HOSPITAL - MORNING'],\n",
              " ['INT. STAIRWELL', ' ARKHAM STATE HOSPITAL - CONTINUOUS'],\n",
              " ['INT. EMERGENCY INTERVIEW ROOM', ' ARKHAM STATE HOSPITAL - DAY'],\n",
              " ['EXT. SCHOOL PLAYGROUND', ' STREET - AFTERNOON'],\n",
              " [\"INT. MOM'S APARTMENT\", ' LIVING ROOM - NIGHT'],\n",
              " [\"INT. MOM'S APARTMENT\", ' LIVING ROOM - MORNING'],\n",
              " ['INT. CITY HOSPITAL', ' HOSPITAL ROOM (SHARED) - MORNING'],\n",
              " ['INT. BLUE CURTAIN', ' HOSPITAL ROOM (SHARED) - CONTINUOUS'],\n",
              " [\"INT. MOM'S APARTMENT\", ' LIVING ROOM - NIGHT'],\n",
              " [\"EXT. POTTER'S FIELD CEMETERY - DUSK\"],\n",
              " ['EXT. ROADWAY', \" POTTER'S FIELD CEMETERY - DUSK\"],\n",
              " [\"INT. MOM'S APARTMENT\", ' BATHROOM - NEXT AFTERNOON'],\n",
              " ['INT. FRONT DOOR', \" MOM'S APARTMENT - AFTERNOON\"],\n",
              " [\"INT. MOM'S BEDROOM\", ' APARTMENT - LATE AFTERNOON'],\n",
              " ['INT. LIVING ROOM', \" MOM'S APARTMENT - LATE AFTERNOON\"],\n",
              " ['INT. KITCHEN', \" MOM'S APARTMENT - LATE AFTERNOON\"],\n",
              " ['INT. LIVING ROOM WINDOW', \" MOM'S APARTMENT - LATE AFTERNOON\"],\n",
              " ['INT. HALLWAY', ' APARTMENT BUILDING - LATE AFTERNOON'],\n",
              " ['INT. ELEVATOR', ' HALLWAY - LATE AFTERNOON'],\n",
              " ['EXT. APARTMENT BUILDING - LATE AFTERNOON'],\n",
              " ['EXT. 174TH STREET', ' TWO LANES - CONTINUOUS'],\n",
              " ['EXT. ELEVATED TRAIN STATION', ' STEPS - CONTINUOUS'],\n",
              " ['EXT. PLATFORM', ' ELEVATED TRAIN STATION - CONTINUOUS'],\n",
              " ['INT. LEXINGTON AVE/PELHAM EXPRESS (MOVING) - CONTINUOUS'],\n",
              " ['EXT. WGCTV STUDIOS', ' FRANKLIN THEATER - MIDTOWN - EVENING'],\n",
              " ['EXT. BACKSTAGE DOOR', ' FRANKLIN THEATER - SIDE STREET - EVENING'],\n",
              " ['INT. STUDIO 4B', ' STAGE - FRANKLIN THEATER - EVENING'],\n",
              " ['INT. HALLWAY', ' FRANKLIN THEATER - EVENING'],\n",
              " ['INT. DRESSING ROOM', ' FRANKLIN THEATER - CONTINUOUS'],\n",
              " ['INT. BACKSTAGE', ' BEHIND CURTAIN - STUDIO 4B - NIGHT'],\n",
              " [\"INT. DIRECTOR'S BOOTH\", ' STUDIO 4B - NIGHT'],\n",
              " ['INT. TALK SHOW SET', ' STAGE - STUDIO 4B - CONTINUOUS'],\n",
              " [\"INT. DIRECTOR'S BOOTH\", ' STUDIO 4B - CONTINUOUS'],\n",
              " ['INT. TALK SHOW SET', ' STAGE - CONTINUOUS'],\n",
              " [\"INT. DIRECTOR'S BOOTH\", ' STUDIO 4B - CONTINUOUS'],\n",
              " ['INT. TALK SHOW SET', ' STAGE - STUDIO 4B - CONTINUOUS'],\n",
              " [\"INT. DIRECTOR'S BOOTH\", ' STUDIO 4B - CONTINUOUS'],\n",
              " ['INT. TALK SHOW SET', ' STAGE - CONTINUOUS'],\n",
              " [\"INT. SOPHIE'S APARTMENT\", ' LIVING ROOM - CONTINUOUS'],\n",
              " ['INT. TALK SHOW SET', ' STAGE - STUDIO 4B - CONTINUOUS'],\n",
              " ['INT. STATION SQUAD ROOM - 7TH PRECINCT - CONTINUOUS'],\n",
              " ['INT. TALK SHOW SET', ' STAGE - STUDIO 4B - CONTINUOUS'],\n",
              " [\"INT. SOPHIE'S APARTMENT\", ' LIVING ROOM - CONTINUOUS'],\n",
              " ['INT. TALK SHOW SET', ' STAGE - CONTINUOUS'],\n",
              " ['INT. GOTHAM SQUAD CAR (MOVING)', ' GOTHAM STREETS - NIGHT'],\n",
              " ['EXT. SQUAD CAR (SLIDING)', ' STREET - CONTINUOUS'],\n",
              " ['EXT. MOVIE THEATER', ' STREET - UPTOWN - CONTINUOUS'],\n",
              " ['EXT. SQUAD CAR (UPSIDE DOWN)', ' STREET - CONTINUOUS'],\n",
              " ['EXT. ALLEY', ' MOVIE THEATER - CONTINUOUS'],\n",
              " ['INT. ARKHAM STATE HOSPITAL', ' INTERVIEW ROOM - MORNING'],\n",
              " ['INT. HALLWAY', ' ARKHAM STATE HOSPITAL - MORNING']]"
            ]
          },
          "execution_count": 174,
          "metadata": {},
          "output_type": "execute_result"
        }
      ],
      "source": [
        "[i.split(',') for i in locations_df['locations']]"
      ]
    },
    {
      "cell_type": "code",
      "execution_count": null,
      "metadata": {
        "id": "6JcEv43ODrUZ"
      },
      "outputs": [],
      "source": [
        "import re\n",
        "import PyPDF2\n",
        "\n",
        "import pandas as pd\n",
        "pd.options.display.max_rows = 999\n",
        "# import camelot\n",
        "import os"
      ]
    },
    {
      "cell_type": "code",
      "execution_count": null,
      "metadata": {
        "colab": {
          "base_uri": "https://localhost:8080/"
        },
        "id": "H-UBq2_fyE1c",
        "outputId": "36fc8648-f77e-47da-bb14-88e240335a19"
      },
      "outputs": [
        {
          "name": "stdout",
          "output_type": "stream",
          "text": [
            "[['JOKERan originwritten byTodd Phillips & Scott Silver1 DECEMBER 2018FINAL SHOOTING SCRIPT'], ['This story takes place in its own universe. It has no connection to any of the DC films that have come before it. We see it as a classic Warner Bros. movie. Gritty, intimate and oddly funny, the characters live in the real world and the stakes are personal.Although it is never mentioned in the film, this story takes place in the past. Let\\'s call it 1981.It\\'s a troubled time. The crime rate in Gotham is at record highs. A garbage strike has crippled the city for the past six weeks. And the divide between the \"haves\" and the \"have-nots\" is palpable. Dreams are beyond reach, slipping into delusions.TP/SSii'], [\"OVER BLACK:HEAR LAUGHTER. The sound of a man totally cracking up.FADE IN:INT. DEPT. OF HEALTH, OFFICE - MORNINGCLOSE ON ARTHUR (30's), tears in his eyes from laughing so hard. He's trying to get it under control. His greasy, black hair hanging down over his forehead. He's wearing an old, faded green cardigan sweater, a threadbare gray scarf, thin from years of use, hangs loosely around his neck. He's sitting across from an overworked SOCIAL WORKER (50's), African American. Her office is cramped and run-down in a cramped and run-down building. Stacks of folders piled high in front of her.  She just sits behind her desk, waiting for his laughing fit to end, she's been through this before. Finally it subsides.Arthur takes a deep breath, pauses to see if it's over. Beat.ARTHUR--is it just me, or is it getting crazier out there? Despite the laughter, there's real pain in his eyes. Something broken in him. Looks like he hasn't slept in days. SOCIAL WORKERIt's certainly tense. People are upset, they're struggling. Looking for work. The garbage strike seems like it's been going on forever. These are tough times.(then)How 'bout you. Have you been keeping up with your journal?ARTHUREveryday.SOCIAL WORKERGreat. Did you bring it with you?Beat.\"]]\n"
          ]
        }
      ],
      "source": [
        "FILE_PATH = '/content/joker_new_final.pdf'\n",
        "\n",
        "def text_extractor(filepath):\n",
        "  \n",
        "  reader = PyPDF2.PdfFileReader(filepath,strict=False)\n",
        "  # return [f'{reader.getPage(i).extractText()} /n' for i in range(0,reader.numPages)]\n",
        "  pages=[reader.getPage(i) for i in range(0,3)]\n",
        "  return [i.extractText().splitlines() for i in pages] \n",
        "joker_raw_text=text_extractor(FILE_PATH)\n",
        "print(joker_raw_text)"
      ]
    },
    {
      "cell_type": "code",
      "execution_count": null,
      "metadata": {
        "id": "lWmnflM2JNaW"
      },
      "outputs": [],
      "source": [
        "FILE_PATH = '/content/joker_new_final.pdf'"
      ]
    },
    {
      "cell_type": "code",
      "execution_count": null,
      "metadata": {
        "colab": {
          "base_uri": "https://localhost:8080/",
          "height": 165
        },
        "id": "FIIsmEX2tSQg",
        "outputId": "92115c01-82aa-4fc5-dcf6-ad6517ed53dc"
      },
      "outputs": [
        {
          "ename": "NameError",
          "evalue": "ignored",
          "output_type": "error",
          "traceback": [
            "\u001b[0;31m---------------------------------------------------------------------------\u001b[0m",
            "\u001b[0;31mNameError\u001b[0m                                 Traceback (most recent call last)",
            "\u001b[0;32m<ipython-input-4-0cac57af3fec>\u001b[0m in \u001b[0;36m<module>\u001b[0;34m()\u001b[0m\n\u001b[0;32m----> 1\u001b[0;31m \u001b[0mjoker_raw_text\u001b[0m\u001b[0;34m=\u001b[0m\u001b[0mtext_extractor\u001b[0m\u001b[0;34m(\u001b[0m\u001b[0mFILE_PATH\u001b[0m\u001b[0;34m)\u001b[0m\u001b[0;34m\u001b[0m\u001b[0;34m\u001b[0m\u001b[0m\n\u001b[0m",
            "\u001b[0;31mNameError\u001b[0m: name 'text_extractor' is not defined"
          ]
        }
      ],
      "source": [
        "joker_raw_text=text_extractor(FILE_PATH)"
      ]
    },
    {
      "cell_type": "code",
      "execution_count": null,
      "metadata": {
        "id": "FoNuJ0PLAA7J"
      },
      "outputs": [],
      "source": [
        "from io import StringIO\n",
        "\n",
        "from pdfminer.converter import TextConverter\n",
        "from pdfminer.layout import LAParams\n",
        "from pdfminer.pdfdocument import PDFDocument\n",
        "from pdfminer.pdfinterp import PDFResourceManager, PDFPageInterpreter\n",
        "from pdfminer.pdfpage import PDFPage\n",
        "from pdfminer.pdfparser import PDFParser\n",
        "\n",
        "output_string = StringIO()\n",
        "with open(FILE_PATH, 'rb') as in_file:\n",
        "    parser = PDFParser(in_file)\n",
        "    doc = PDFDocument(parser)\n",
        "    rsrcmgr = PDFResourceManager()\n",
        "    device = TextConverter(rsrcmgr, output_string, laparams=LAParams())\n",
        "    interpreter = PDFPageInterpreter(rsrcmgr, device)\n",
        "    for page in PDFPage.create_pages(doc):\n",
        "        interpreter.process_page(page)\n",
        "\n",
        "joker_raw_text=output_string.getvalue()"
      ]
    },
    {
      "cell_type": "code",
      "execution_count": null,
      "metadata": {
        "id": "yjyerEHcBRwp"
      },
      "outputs": [],
      "source": [
        "print(joker_raw_text)"
      ]
    },
    {
      "cell_type": "markdown",
      "metadata": {
        "id": "nsM3pPVg3oGl"
      },
      "source": [
        "## Extracting Locations"
      ]
    },
    {
      "cell_type": "code",
      "execution_count": null,
      "metadata": {
        "id": "tXQLmgLFwZcK"
      },
      "outputs": [],
      "source": [
        "re.findall(r\"(INT+\\..+|EXT+\\..+)\",joker_raw_text)"
      ]
    },
    {
      "cell_type": "code",
      "execution_count": null,
      "metadata": {
        "id": "VBpDW2tZOtsA"
      },
      "outputs": [],
      "source": [
        "text='''INT. TALK SHOW SET, STAGE - CONTINUOUS\n",
        "\n",
        "Murray glances over at his producer Gene Ufland, who's \n",
        "sitting off-camera on a director's chair by a monitor. Gene \n",
        "shrugs at him. \n",
        "\n",
        "MURRAY FRANKLIN\n",
        "\n",
        "(smiles; trying to save \n",
        "the interview)\n",
        "\n",
        "So when we talked earlier, you \n",
        "mentioned that you aren't \n",
        "political. That this look isn't a \n",
        "political statement. \n",
        "\n",
        "JOKER\n",
        "\n",
        "That's right. I'm not political, \n",
        "Murray. I'm just trying to make \n",
        "people laugh.\n",
        "EXT. HOME\n",
        "MURRAY FRANKLIN - #2'''"
      ]
    },
    {
      "cell_type": "code",
      "execution_count": null,
      "metadata": {
        "id": "Lxan73s-jevY"
      },
      "outputs": [],
      "source": [
        "# re.findall(r\"[A-Z]+\\s.+\",joker_raw_text,flags=re.M)\n",
        "# re.findall(r\"[A-Z]+\\s.*\",text,flags=re.M)\n",
        "# re.findall(r\"([A-Z]+.+\\w)\",text,flags=re.M)\n",
        "not_charachters=re.findall(r\"^INT.+|^EXT.+|\\b.[a-z].+|\\(\",text,flags=re.M)"
      ]
    },
    {
      "cell_type": "code",
      "execution_count": null,
      "metadata": {
        "id": "ZYn2-66WV5Dz"
      },
      "outputs": [],
      "source": [
        "characters=re.sub(r'^\\s\\(|INT.+\\s*|^EXT.+\\s*|^\\n|\\b.[a-z].*\\s*','',joker_raw_text,flags=re.M).split('\\n')\n"
      ]
    },
    {
      "cell_type": "code",
      "execution_count": null,
      "metadata": {
        "id": "qB-tNJi3Oduf"
      },
      "outputs": [],
      "source": [
        "characters"
      ]
    },
    {
      "cell_type": "code",
      "execution_count": null,
      "metadata": {
        "id": "EpYFJKGbOPoT"
      },
      "outputs": [],
      "source": [
        "characters_=[re.sub(r'\\d\\.|\\d','',i,flags=re.M) for i in characters]"
      ]
    },
    {
      "cell_type": "markdown",
      "metadata": {
        "id": "NZ-fHzDLi_hB"
      },
      "source": []
    },
    {
      "cell_type": "code",
      "execution_count": null,
      "metadata": {
        "id": "IFwavVBLPg14"
      },
      "outputs": [],
      "source": [
        "import string"
      ]
    },
    {
      "cell_type": "code",
      "execution_count": null,
      "metadata": {
        "colab": {
          "base_uri": "https://localhost:8080/"
        },
        "id": "ppiQp7d6PQAI",
        "outputId": "275fa13d-6935-48af-8c34-85be62ae8c6c"
      },
      "outputs": [
        {
          "data": {
            "text/plain": [
              "\n",
              "ARTHUR (CONT’D)      1\n",
              "IMURRAY FRANKLIN      1\n",
              "IJOKER                1\n",
              "IISOCIAL WORKER       1\n",
              "IIMURRAY FRANKLIN     1\n",
              "IGENE UFLAND          1\n",
              "IDR. STONER (VO)      1\n",
              "IDET. BURKE           1\n",
              "ICUT TO:              1\n",
              "ICLOSE ON ARTHUR      1\n",
              "IBLAM!                1\n",
              "I, IALFRED            1\n",
              "I, I(MORE)            1\n",
              "HEARSCUT BACK TO:     1\n",
              "HARTHUR               1\n",
              "HAPPY!? ARTHUR        1\n",
              "HA-HA CLOWN # (OS)    1\n",
              "HA-HA CLOWN #         1\n",
              "HA! ARTHUR            1\n",
              "GARY (OS)             1\n",
              "dtype: int64"
            ]
          },
          "execution_count": 48,
          "metadata": {},
          "output_type": "execute_result"
        }
      ],
      "source": [
        "pd.DataFrame([i for i in characters_ if i not in string.punctuation and 3<len(i)<20]).value_counts(ascending=True)[:20]"
      ]
    }
  ],
  "metadata": {
    "colab": {
      "collapsed_sections": [],
      "name": "joker.ipynb",
      "provenance": []
    },
    "kernelspec": {
      "display_name": "Python 3",
      "name": "python3"
    },
    "language_info": {
      "name": "python"
    }
  },
  "nbformat": 4,
  "nbformat_minor": 0
}

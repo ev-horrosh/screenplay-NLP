{
  "cells": [
    {
      "cell_type": "code",
      "execution_count": 1,
      "metadata": {
        "id": "e-PRpusssnvU"
      },
      "outputs": [],
      "source": [
        "import json\n",
        "import pandas as pd\n",
        "import numpy as np\n",
        "import spacy\n",
        "import matplotlib.pyplot as plot\n",
        "pd.options.display.max_rows = 999\n",
        "from gensim import models,corpora,similarities\n",
        "from gensim.models.coherencemodel import CoherenceModel\n"
      ]
    },
    {
      "cell_type": "code",
      "execution_count": 2,
      "metadata": {},
      "outputs": [],
      "source": [
        "nlp = spacy.load(\"en_core_web_md\",disable=['parser','ner'])"
      ]
    },
    {
      "cell_type": "markdown",
      "metadata": {},
      "source": [
        "## Loading the data\n",
        "\n",
        "Using json for serializing the data is not ideal. it won't translate well to a python dictionary. But lets imagine that we got it as an API response.\n",
        "Here we see the first issue is that scene number is not an integer anymore, it's a string. Below function will load the data and convert a string number to an integer.    \n"
      ]
    },
    {
      "cell_type": "code",
      "execution_count": 3,
      "metadata": {},
      "outputs": [],
      "source": [
        "def read_json_script(filename):\n",
        "    with open(filename, \"r\") as f:\n",
        "        script=json.load(f)\n",
        "        return {int(k): v for k, v in script.items()}"
      ]
    },
    {
      "cell_type": "code",
      "execution_count": 4,
      "metadata": {},
      "outputs": [],
      "source": [
        "def tokenizer(doc):\n",
        "    return [token.lemma_ for token in doc if token.is_alpha \n",
        "            and not token.is_stop \n",
        "            and not token.is_punct\n",
        "            and not token.is_space\n",
        "            and token.pos_ in ['NOUN','VERB','ADJ']]"
      ]
    },
    {
      "cell_type": "code",
      "execution_count": 22,
      "metadata": {},
      "outputs": [],
      "source": [
        "script=read_json_script(\"joker.json\")"
      ]
    },
    {
      "cell_type": "markdown",
      "metadata": {},
      "source": [
        "I'm going to make a Dataframe and transpose it, to make scene numbers to be indecies"
      ]
    },
    {
      "cell_type": "code",
      "execution_count": 23,
      "metadata": {},
      "outputs": [],
      "source": [
        "df=pd.DataFrame(script).T"
      ]
    },
    {
      "cell_type": "markdown",
      "metadata": {},
      "source": [
        "Replacing empty lists with NaNs"
      ]
    },
    {
      "cell_type": "markdown",
      "metadata": {},
      "source": [
        "`tod` (time of day) column has `CONTINUOUS` string. `CONTINUOUS` means the scene takes place in the same time of day as the scene before. In this case `CONTINUOUS` would not mean much. \n",
        "It would make sense to replace  `CONTINUOUS` with the value of the row before.\n",
        "Let's use `.assign()` here.  I got this way of working from @Matt_Harrison and I find it very neat. "
      ]
    },
    {
      "cell_type": "code",
      "execution_count": 24,
      "metadata": {},
      "outputs": [],
      "source": [
        "df=df.assign(\n",
        "    transitions=df['transitions'].apply(lambda x: x if x!=[] else np.nan),\n",
        "    dialog=df['dialog'].apply(lambda x: x if x!={} else np.nan),\n",
        "    tod=(df['tod']\n",
        "         .replace('CONTINUOUS', np.nan).ffill()\n",
        "         .replace('LATER', np.nan).ffill()),\n",
        "    \n",
        "    # action=df['action'].apply(lambda col:[sent for sent in nlp(' '.join(col)).sents])\n",
        "          \n",
        "          )"
      ]
    },
    {
      "cell_type": "code",
      "execution_count": 18,
      "metadata": {},
      "outputs": [
        {
          "data": {
            "image/png": "[encoded data removed]",
            "text/plain": [
              "<Figure size 432x288 with 1 Axes>"
            ]
          },
          "metadata": {
            "needs_background": "light"
          },
          "output_type": "display_data"
        }
      ],
      "source": [
        "df['tod'].value_counts().plot.bar();"
      ]
    },
    {
      "cell_type": "markdown",
      "metadata": {},
      "source": [
        "_____________\n"
      ]
    },
    {
      "cell_type": "code",
      "execution_count": 9,
      "metadata": {},
      "outputs": [],
      "source": [
        "test=df.action.loc[:3].to_list()"
      ]
    },
    {
      "cell_type": "code",
      "execution_count": 10,
      "metadata": {},
      "outputs": [],
      "source": [
        "tokenized=list(map(tokenizer, nlp.pipe([''.join(t) for t in test],n_process=4)))"
      ]
    },
    {
      "cell_type": "code",
      "execution_count": 72,
      "metadata": {},
      "outputs": [],
      "source": [
        "num_topics=3"
      ]
    },
    {
      "cell_type": "code",
      "execution_count": 73,
      "metadata": {},
      "outputs": [],
      "source": [
        "dictionary=corpora.Dictionary(tokenized)\n"
      ]
    },
    {
      "cell_type": "code",
      "execution_count": 74,
      "metadata": {},
      "outputs": [],
      "source": [
        "# dictionary.filter_extremes(no_below=1 ,no_above=0.1)"
      ]
    },
    {
      "cell_type": "code",
      "execution_count": 75,
      "metadata": {},
      "outputs": [],
      "source": [
        "corpus_bow=[dictionary.doc2bow(article) for article in tokenized]"
      ]
    },
    {
      "cell_type": "code",
      "execution_count": 76,
      "metadata": {},
      "outputs": [],
      "source": [
        "lda_model=models.LdaModel(corpus=corpus_bow, \n",
        "                          num_topics=num_topics,\n",
        "                          id2word=dictionary,\n",
        "                          passes=2,\n",
        "                          alpha='auto',\n",
        "                          eta='auto')"
      ]
    },
    {
      "cell_type": "code",
      "execution_count": 77,
      "metadata": {},
      "outputs": [
        {
          "data": {
            "text/plain": [
              "[(0,\n",
              "  '0.030*\"sign\" + 0.018*\"kid\" + 0.017*\"pick\" + 0.017*\"boy\" + 0.014*\"get\" + 0.014*\"street\" + 0.014*\"hold\" + 0.013*\"old\" + 0.013*\"kick\" + 0.013*\"music\"'),\n",
              " (1,\n",
              "  '0.019*\"look\" + 0.014*\"journal\" + 0.014*\"beat\" + 0.014*\"pause\" + 0.014*\"hang\" + 0.013*\"run\" + 0.010*\"give\" + 0.010*\"laugh\" + 0.010*\"sit\" + 0.010*\"worker\"'),\n",
              " (2,\n",
              "  '0.016*\"sign\" + 0.016*\"kid\" + 0.016*\"hit\" + 0.015*\"face\" + 0.015*\"street\" + 0.014*\"take\" + 0.014*\"turn\" + 0.014*\"beating\" + 0.014*\"ground\" + 0.011*\"beat\"')]"
            ]
          },
          "execution_count": 77,
          "metadata": {},
          "output_type": "execute_result"
        }
      ],
      "source": [
        "lda_model.print_topics()"
      ]
    },
    {
      "cell_type": "code",
      "execution_count": null,
      "metadata": {},
      "outputs": [],
      "source": [
        "print(lda_model.alpha)\n",
        "print(lda_model.eta)"
      ]
    },
    {
      "cell_type": "code",
      "execution_count": 98,
      "metadata": {},
      "outputs": [],
      "source": [
        "topics=sorted(lda_model.get_document_topics(corpus_bow[1]),key=lambda tup: tup[1])"
      ]
    },
    {
      "cell_type": "code",
      "execution_count": 99,
      "metadata": {},
      "outputs": [
        {
          "data": {
            "text/plain": [
              "[('sign', 0.030081015),\n",
              " ('kid', 0.01770373),\n",
              " ('pick', 0.01738223),\n",
              " ('boy', 0.01653859),\n",
              " ('get', 0.014117313),\n",
              " ('street', 0.014068894),\n",
              " ('hold', 0.0135454275),\n",
              " ('old', 0.01332013),\n",
              " ('kick', 0.013259685),\n",
              " ('music', 0.013022451)]"
            ]
          },
          "execution_count": 99,
          "metadata": {},
          "output_type": "execute_result"
        }
      ],
      "source": [
        "lda_model.show_topic(topics[0][0])"
      ]
    },
    {
      "cell_type": "code",
      "execution_count": 100,
      "metadata": {},
      "outputs": [
        {
          "data": {
            "text/plain": [
              "[(0, 0.99078935)]"
            ]
          },
          "execution_count": 100,
          "metadata": {},
          "output_type": "execute_result"
        }
      ],
      "source": [
        "topics"
      ]
    },
    {
      "cell_type": "markdown",
      "metadata": {},
      "source": [
        "_________\n"
      ]
    },
    {
      "cell_type": "markdown",
      "metadata": {},
      "source": [
        "### FEATURE ENGINEERING\n",
        "- number of charachters\n",
        "- "
      ]
    },
    {
      "cell_type": "code",
      "execution_count": 22,
      "metadata": {},
      "outputs": [
        {
          "data": {
            "text/plain": [
              "2"
            ]
          },
          "execution_count": 22,
          "metadata": {},
          "output_type": "execute_result"
        }
      ],
      "source": [
        "                                                                                                                                                           \n",
        "len(df.dialog[1])"
      ]
    },
    {
      "cell_type": "code",
      "execution_count": 23,
      "metadata": {},
      "outputs": [],
      "source": [
        "df1=df.copy()"
      ]
    },
    {
      "cell_type": "code",
      "execution_count": 24,
      "metadata": {},
      "outputs": [
        {
          "data": {
            "text/plain": [
              "INT.    70.4\n",
              "EXT.    29.6\n",
              "Name: int_ext, dtype: float64"
            ]
          },
          "execution_count": 24,
          "metadata": {},
          "output_type": "execute_result"
        }
      ],
      "source": [
        "df['int_ext'].value_counts(normalize=True)*100"
      ]
    },
    {
      "cell_type": "code",
      "execution_count": 25,
      "metadata": {},
      "outputs": [
        {
          "data": {
            "text/plain": [
              "NIGHT        48.0\n",
              "MORNING      16.8\n",
              "AFTERNOON    15.2\n",
              "DUSK         10.4\n",
              "DAY           6.4\n",
              "SUNSET        2.4\n",
              "EVENING       0.8\n",
              "Name: tod, dtype: float64"
            ]
          },
          "execution_count": 25,
          "metadata": {},
          "output_type": "execute_result"
        }
      ],
      "source": [
        "df['tod'].value_counts(normalize=True)*100"
      ]
    },
    {
      "cell_type": "code",
      "execution_count": 26,
      "metadata": {},
      "outputs": [
        {
          "data": {
            "text/plain": [
              "[CUT TO:]                                 20\n",
              "[BACK TO:, CUT BACK TO:, CUT BACK TO:]     3\n",
              "[TITLE:]                                   1\n",
              "[QUICK CUTS:]                              1\n",
              "[CUT TO:, CUT TO:]                         1\n",
              "[CUT TO BLACK, FADE IN:]                   1\n",
              "[IRIS OUT:]                                1\n",
              "Name: transitions, dtype: int64"
            ]
          },
          "execution_count": 26,
          "metadata": {},
          "output_type": "execute_result"
        }
      ],
      "source": [
        "df['transitions'].value_counts()"
      ]
    },
    {
      "cell_type": "code",
      "execution_count": 14,
      "metadata": {},
      "outputs": [
        {
          "data": {
            "image/png": "[encoded data removed]",
            "text/plain": [
              "<Figure size 432x288 with 1 Axes>"
            ]
          },
          "metadata": {
            "needs_background": "light"
          },
          "output_type": "display_data"
        }
      ],
      "source": [
        "df['tod'].value_counts().plot.bar();"
      ]
    },
    {
      "cell_type": "code",
      "execution_count": null,
      "metadata": {},
      "outputs": [],
      "source": [
        "[token.lemma_ for token in doc if token.is_alpha and not token.is_stop]\n",
        "    "
      ]
    },
    {
      "cell_type": "code",
      "execution_count": 496,
      "metadata": {},
      "outputs": [
        {
          "data": {
            "text/plain": [
              "[('CLOSE ON ARTHUR', 'ORG'),\n",
              " ('30', 'CARDINAL'),\n",
              " ('years', 'DATE'),\n",
              " ('50', 'CARDINAL'),\n",
              " ('African American', 'NORP'),\n",
              " ('Arthur', 'PERSON'),\n",
              " ('days', 'DATE'),\n",
              " ('half', 'CARDINAL'),\n",
              " ('journal--', 'NORP'),\n",
              " (\"Arthur's\", 'ORG'),\n",
              " ('Arthur', 'ORG')]"
            ]
          },
          "execution_count": 496,
          "metadata": {},
          "output_type": "execute_result"
        }
      ],
      "source": [
        "[(token.text, token.label_) for token in doc.ents ]\n"
      ]
    },
    {
      "cell_type": "code",
      "execution_count": 549,
      "metadata": {},
      "outputs": [],
      "source": [
        "from sklearn.feature_extraction.text import CountVectorizer"
      ]
    },
    {
      "cell_type": "code",
      "execution_count": null,
      "metadata": {},
      "outputs": [],
      "source": [
        "list([t.lower_ for t in doc if t.is_alpha and not t.is_stop])"
      ]
    },
    {
      "cell_type": "code",
      "execution_count": 583,
      "metadata": {},
      "outputs": [],
      "source": [
        "sentences=list([t.text for t in doc.sents])"
      ]
    },
    {
      "cell_type": "code",
      "execution_count": 606,
      "metadata": {},
      "outputs": [],
      "source": [
        "def spacy_tokinizer(doc):\n",
        "\n",
        "    return [t.text for t in nlp(doc) if t.is_alpha and not t.is_punct]\n",
        "    "
      ]
    },
    {
      "cell_type": "code",
      "execution_count": 613,
      "metadata": {},
      "outputs": [],
      "source": [
        "cv=CountVectorizer(tokenizer=spacy_tokinizer,ngram_range=(2,2),lowercase=True,binary=True)"
      ]
    },
    {
      "cell_type": "code",
      "execution_count": 614,
      "metadata": {},
      "outputs": [
        {
          "data": {
            "text/plain": [
              "<33x240 sparse matrix of type '<class 'numpy.int64'>'\n",
              "\twith 248 stored elements in Compressed Sparse Row format>"
            ]
          },
          "execution_count": 614,
          "metadata": {},
          "output_type": "execute_result"
        }
      ],
      "source": [
        "cv.fit_transform(sentences)"
      ]
    }
  ],
  "metadata": {
    "colab": {
      "collapsed_sections": [],
      "name": "joker.ipynb",
      "provenance": []
    },
    "kernelspec": {
      "display_name": "Python 3.9.5 ('venv': venv)",
      "language": "python",
      "name": "python3"
    },
    "language_info": {
      "codemirror_mode": {
        "name": "ipython",
        "version": 3
      },
      "file_extension": ".py",
      "mimetype": "text/x-python",
      "name": "python",
      "nbconvert_exporter": "python",
      "pygments_lexer": "ipython3",
      "version": "3.9.5"
    },
    "vscode": {
      "interpreter": {
        "hash": "de5214c6bbc4053fe1cba1427cc730a8c4c5ef5e8633dd38ac0718bce11f5cab"
      }
    }
  },
  "nbformat": 4,
  "nbformat_minor": 0
}

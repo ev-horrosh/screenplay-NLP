{
 "cells": [
  {
   "cell_type": "code",
   "execution_count": 59,
   "metadata": {},
   "outputs": [],
   "source": [
    "with open('sample_text.txt','r') as f:\n",
    "    lines=f.readlines()"
   ]
  },
  {
   "cell_type": "code",
   "execution_count": 32,
   "metadata": {},
   "outputs": [],
   "source": [
    "import pdfplumber\n",
    "text=[]\n",
    "with pdfplumber.open('joker_new_final.pdf') as f :\n",
    "    pages=f.pages\n",
    "    for page in range(2,104):\n",
    "        text.append(pages[page].extract_text(x_tolerance=3, y_tolerance=3, layout=True, x_density=7.25, y_density=13))\n",
    "        \n",
    "    f.close()"
   ]
  },
  {
   "cell_type": "code",
   "execution_count": 17,
   "metadata": {},
   "outputs": [],
   "source": [
    "# with open('text.txt','w+' ) as t:\n",
    "#     for i in text:\n",
    "#         t.writelines(i)\n",
    "with open('text.txt','r') as f:\n",
    "    text=f.readlines()"
   ]
  },
  {
   "cell_type": "code",
   "execution_count": 13,
   "metadata": {},
   "outputs": [],
   "source": [
    "import pandas as pd\n",
    "import re"
   ]
  },
  {
   "cell_type": "code",
   "execution_count": 2,
   "metadata": {},
   "outputs": [],
   "source": [
    "def get_characters(page):\n",
    "    characters=[]\n",
    "    for character in [e.strip() for e in page if e.isupper()]:\n",
    "        if character not in TRANSITIONS and character.split()[0] not in INT_EXT:\n",
    "            # characters.add(character)\n",
    "            characters.append(character)\n",
    "    return (characters )       \n",
    "    # return (characters )       "
   ]
  },
  {
   "cell_type": "code",
   "execution_count": null,
   "metadata": {},
   "outputs": [],
   "source": [
    "get_characters(text)"
   ]
  },
  {
   "cell_type": "code",
   "execution_count": 22,
   "metadata": {},
   "outputs": [
    {
     "data": {
      "text/plain": [
       "'DET. BURKE'"
      ]
     },
     "execution_count": 22,
     "metadata": {},
     "output_type": "execute_result"
    }
   ],
   "source": [
    "re.sub(r\"[\\(\\)].+$\",'','DET. BURKE (OS)').strip()"
   ]
  },
  {
   "cell_type": "code",
   "execution_count": 43,
   "metadata": {},
   "outputs": [],
   "source": [
    "caarr=pd.DataFrame(get_characters(text),columns=['characters'])['characters'].apply(lambda x: re.sub(r\"[\\(\\)].+$\",'',x).strip())\n"
   ]
  },
  {
   "cell_type": "code",
   "execution_count": null,
   "metadata": {},
   "outputs": [],
   "source": [
    "caarr.value_counts().head(50)"
   ]
  },
  {
   "cell_type": "code",
   "execution_count": 4,
   "metadata": {},
   "outputs": [],
   "source": [
    "def get_scene(page):\n",
    "    scenes=[]\n",
    "    for i in [e.strip() for e in page if e.isupper() and e not in TRANSITIONS]:\n",
    "        for item in i.split():\n",
    "            if item in INT_EXT:\n",
    "                scene=' '.join([x for x in i.split()])\n",
    "                scenes.append(scene)\n",
    "                \n",
    "    return scenes "
   ]
  },
  {
   "cell_type": "code",
   "execution_count": null,
   "metadata": {},
   "outputs": [],
   "source": [
    "[s for s in [e.strip() for e in sample_text] if s not in TRANSITIONS and s.split()[0] not in INT_EXT and not s.isupper()]"
   ]
  },
  {
   "cell_type": "code",
   "execution_count": 23,
   "metadata": {},
   "outputs": [
    {
     "data": {
      "text/plain": [
       "['INT. DEPT. OF HEALTH, OFFICE - MORNING',\n",
       " 'EXT. GOTHAM SQUARE, MIDTOWN - AFTERNOON - DAYS LATER',\n",
       " 'EXT. CORNER, ALLEY - GOTHAM SQUARE - CONTINUOUS',\n",
       " 'INT. CITY BUS (MOVING) - HEADING UPTOWN - LATE AFTERNOON',\n",
       " 'EXT. THE BRONX, STREET - SUNSET',\n",
       " 'EXT. SIDE ALLEY, TENEMENTS - EARLY DUSK',\n",
       " 'EXT. STEEP STAIRWAY, TENEMENTS - DUSK',\n",
       " 'INT. APARTMENT BUILDING, LOBBY - DUSK',\n",
       " 'INT. ELEVATOR, APARTMENT BUILDING - CONTINUOUS',\n",
       " \"INT. MOM'S APARTMENT, FRONT DOOR - EVENING\"]"
      ]
     },
     "execution_count": 23,
     "metadata": {},
     "output_type": "execute_result"
    }
   ],
   "source": [
    "[s for s in get_scene(text)]\n",
    "    # print(text[get_scene(text).index(s)])\n"
   ]
  },
  {
   "cell_type": "code",
   "execution_count": null,
   "metadata": {},
   "outputs": [],
   "source": [
    "def get_action(page):\n",
    "    act=[]\n",
    "    action=[]\n",
    "    \n",
    "    for i in [e.split() for e in page]:\n",
    "        if ' '.join(i) not in TRANSITIONS:\n",
    "            action.append(' '.join(i))\n",
    "            \n",
    "    # for a in range(len(get_scene(page))-1):\n",
    "    #     start_ind=action.index(get_scene(page)[a])+2\n",
    "    #     end_ind=action.index(get_scene(page)[a+1])-2\n",
    "    #     act.append([d for d in action[start_ind:end_ind] if len(d)>35])\n",
    "    return action\n",
    "    # return [' '.join(d) for d in [a for a in act]]\n",
    "\n",
    "action=get_action(text)  \n",
    "action"
   ]
  },
  {
   "cell_type": "code",
   "execution_count": 63,
   "metadata": {},
   "outputs": [],
   "source": [
    "def get_dialog(page):\n",
    "    act=[]\n",
    "    dialog=[]\n",
    "    \n",
    "    for i in [e.split() for e in page if not e.isspace()]:\n",
    "        if ' '.join(i) not in TRANSITIONS:\n",
    "            dialog.append(' '.join(i))\n",
    "            \n",
    "    for a in range(len(get_characters(page))+1):\n",
    "        start_ind=dialog.index(get_dialog(page)[a])+2\n",
    "        end_ind=dialog.index(get_scene(page)[a+1])-2\n",
    "        act.append([d for d in dialog[start_ind:end_ind] if len(d)<35])\n",
    "        \n",
    "    return [' '.join(d) for d in [a for a in act]]\n",
    "\n",
    "get_dialog(text)  "
   ]
  },
  {
   "cell_type": "markdown",
   "metadata": {},
   "source": [
    "## dialog extraction"
   ]
  },
  {
   "cell_type": "code",
   "execution_count": 40,
   "metadata": {},
   "outputs": [],
   "source": [
    "'''\n",
    "for each scene \n",
    "-strip the white space and only include lines with not more than 40 letters\n",
    "-find indecies of lines of where each charachter appear\n",
    "-use those indecies to extract the data inbetween characters\n",
    "\n",
    "- need to make more find a way to accomodate\n",
    "'''\n",
    "def dialogs(scene,characte_list):\n",
    "\n",
    "  res=[l.strip() for l in scene.splitlines() if l!='' and len(l.strip())<40 ]# optional\n",
    "  inx=[i for i,l in enumerate(res) if l in characte_list]\n",
    "  \n",
    "  para=[]\n",
    "  \n",
    "  for i in range(len(inx)):\n",
    "    if inx[i]==inx[-1]:\n",
    "      para.append(res[inx[i]:])\n",
    "    else:\n",
    "      para.append(res[inx[i]:inx[i+1]])\n",
    "  return para"
   ]
  },
  {
   "cell_type": "code",
   "execution_count": null,
   "metadata": {},
   "outputs": [],
   "source": [
    "dialogs(scene)"
   ]
  },
  {
   "cell_type": "code",
   "execution_count": 45,
   "metadata": {},
   "outputs": [],
   "source": [
    "class Screenplay():\n",
    "    \n",
    "    INT_EXT = ['INT.', 'EXT.', 'INT/EXT.', 'EXT/INT.']\n",
    "    TOD = ['AFTERNOON', 'CONTINUOUS', 'DAWN', 'DAY', 'DUSK',\n",
    "           'EVENING', 'LATER', 'MORNING', 'NIGHT', 'NOON', 'SAME']\n",
    "    TRANSITIONS = ['BACK TO:', 'CUT TO:', 'DISSOLVE TO:', 'FADE IN:', 'CUT BACK TO:'\n",
    "                   'FADE OUT:', 'FADE TO:', 'JUMP CUT TO:', 'MATCH CUT TO:', 'TITLE:',\n",
    "                   'SMASH CUT TO:', 'TIME CUT:', 'WIPE TO:', 'CROSSFADE:', 'OVER BLACK:', 'CUT TO BLACK',\n",
    "                   'FADE TO:BLACK', 'FLASH CUT:', 'LAP DISSOLVE:', 'MATCH DISSOLVE TO:', 'SUPER:', 'IRIS OUT:']\n",
    "    SHOTS = ['AERIAL SHOT', 'ANGLE ON',  'CLOSE ON', 'CLOSER ANGLE', 'CONTINUOUS',\n",
    "             'CONTRAZOOM', 'CRAWL',  'ESTABLISHING SHOT',\n",
    "             'EXTREMELY LONG SHOT (XLS):', 'FAVOR ON','HEAR LAUGHTER.',\n",
    "             'FLASHBACK:', 'FREEZE FRAME:', 'INSERT','DAYS LATER'\n",
    "             'INTO FRAME:', 'INTO VIEW:', 'MOS', 'O.C. / O.S.',\n",
    "             'POV', 'PULL BACK:', 'PULL FOCUS:', 'PUSH IN:',\n",
    "             'REVERSE ANGLE',  'SPLIT SCREEN SHOT:', 'STOCK SHOT:',\n",
    "             'TIGHT ON', 'TIME CUT', 'V.O.', 'ZOOM:']\n",
    "\n",
    "    def __init__(self, text: list) -> list:\n",
    "        # self.text = text\n",
    "        self.text = [l.strip() for l in text if not l.isspace()]\n",
    "\n",
    "    def get_scene_index(self):\n",
    "        return [i for i,l in enumerate(self.text) if l in self.locations()]\n",
    "    \n",
    "    def locations(self):\n",
    "        scenes = []\n",
    "        for i in [e for e in self.text if e.isupper() and e not in self.TRANSITIONS]:\n",
    "            for item in i.split():\n",
    "                if item in self.INT_EXT:\n",
    "                    scene = ' '.join([x for x in i.split()])\n",
    "                    scenes.append(scene)\n",
    "        return scenes\n",
    "    \n",
    "    def get_scenes(self):\n",
    "        scenes=[]\n",
    "        for i in range(len(self.get_scene_index())):\n",
    "            if self.get_scene_index()[i]==self.get_scene_index()[-1]:\n",
    "                scenes.append(self.text[self.get_scene_index()[i]:])\n",
    "            else:\n",
    "                scenes.append(self.text[self.get_scene_index()[i]:self.get_scene_index()[i+1]])\n",
    "        return scenes    \n",
    "    \n",
    "    def get_characters(self):\n",
    "        characters=[]\n",
    "        for scene in self.get_scenes():\n",
    "            characters.append([c for c in scene if len(c)<16 and \n",
    "                        c.isupper() and \n",
    "                        len(c)<15 and \n",
    "                        c not in self.TRANSITIONS and \n",
    "                        c.split()[0] not in self.INT_EXT])\n",
    "        return characters                 \n",
    "\n",
    "        \n",
    "    def load(self):\n",
    "        self.scenes_head={}\n",
    "        for i,s in enumerate(self.locations()[:-1],start=1):\n",
    "            self.scenes_head.update({\n",
    "                i:{\n",
    "                'int_ext':s.split()[0],\n",
    "                'location':' '.join(s.split()[1:-2]),\n",
    "                'tod':s.split()[-1],\n",
    "                # 'action': self.get_action()[i-1]\n",
    "                }})\n",
    "   \n",
    "        return self.scenes_head\n",
    "    "
   ]
  },
  {
   "cell_type": "code",
   "execution_count": 46,
   "metadata": {},
   "outputs": [
    {
     "data": {
      "text/plain": [
       "[['ARTHUR',\n",
       "  'SOCIAL WORKER',\n",
       "  'ARTHUR',\n",
       "  'SOCIAL WORKER',\n",
       "  'ARTHUR',\n",
       "  'SOCIAL WORKER',\n",
       "  'ARTHUR',\n",
       "  'SOCIAL WORKER',\n",
       "  'ARTHUR',\n",
       "  'SOCIAL WORKER',\n",
       "  'ARTHUR',\n",
       "  'ARTHUR',\n",
       "  'SOCIAL WORKER',\n",
       "  'ARTHUR',\n",
       "  'SOCIAL WORKER',\n",
       "  'ARTHUR',\n",
       "  'SOCIAL WORKER',\n",
       "  'SOCIAL WORKER',\n",
       "  'ARTHUR',\n",
       "  'SOCIAL WORKER',\n",
       "  'ARTHUR',\n",
       "  'SOCIAL WORKER',\n",
       "  'ARTHUR',\n",
       "  'SOCIAL WORKER',\n",
       "  'ARTHUR',\n",
       "  'ARTHUR',\n",
       "  'SOCIAL WORKER',\n",
       "  'ARTHUR'],\n",
       " [],\n",
       " ['JOKER'],\n",
       " []]"
      ]
     },
     "execution_count": 46,
     "metadata": {},
     "output_type": "execute_result"
    }
   ],
   "source": [
    "with open('text.txt', 'r') as f:\n",
    "    text = f.readlines()\n",
    "\n",
    "sc = Screenplay(text[:300])\n",
    "# sc.get_scenes()\n",
    "# sc.get_scene_index()\n",
    "# sc.load()\n",
    "# sc.get_scenes()\n",
    "sc.get_characters()\n",
    "\n",
    "# scene_heads=sc.get_scenes()\n",
    "# scene_heads"
   ]
  },
  {
   "cell_type": "code",
   "execution_count": null,
   "metadata": {},
   "outputs": [],
   "source": [
    "scenes={}\n",
    "for i,s in enumerate(sc.get_scenes(),start=1):\n",
    "    \n",
    "    scenes.update({\n",
    "        i:{\n",
    "        f'int_ext':[l for l in s.split()][0],\n",
    "        'location':' '.join([l for l in s.split()][1:-2]),\n",
    "        'tod':[l for l in s.split()][-1]}})\n",
    "\n",
    "# if contiuos grab before\n",
    "scenes"
   ]
  }
 ],
 "metadata": {
  "interpreter": {
   "hash": "a5f6085926496a50e79cd019ce9612e2f626b8ce0f0c79905112ce929c19eca7"
  },
  "kernelspec": {
   "display_name": "Python 3.9.5 ('venv': venv)",
   "language": "python",
   "name": "python3"
  },
  "language_info": {
   "codemirror_mode": {
    "name": "ipython",
    "version": 3
   },
   "file_extension": ".py",
   "mimetype": "text/x-python",
   "name": "python",
   "nbconvert_exporter": "python",
   "pygments_lexer": "ipython3",
   "version": "3.9.5"
  },
  "orig_nbformat": 4
 },
 "nbformat": 4,
 "nbformat_minor": 2
}

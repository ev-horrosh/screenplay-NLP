{
 "cells": [
  {
   "cell_type": "code",
   "execution_count": 3,
   "metadata": {},
   "outputs": [],
   "source": [
    "script={\n",
    "1:{\n",
    "\n",
    "        'dialog':\n",
    "        {\n",
    "        'JOKER':['''--is it just me, or is it getting crazier out there?''',\n",
    "                '''Everyday.''',],\n",
    "\n",
    "        'SOCIAL WORKER':['''It's certainly tense. People are upset, they're struggling. Looking\n",
    "                        for work. The garbage strike seems like it's been going on forever. \n",
    "                        These are tough times. (then) How 'bout you. \n",
    "                        Have you been keeping up with your journal??''',\n",
    "                        '''Great. Did you bring it with you?''',]\n",
    "        },\n",
    "\n",
    "\n",
    "        'action':[\n",
    "                '''HEAR LAUGHTER.The sound of a man totally cracking up.''',\n",
    "                '''CLOSE ON ARTHUR (30's), tears in his eyes from laughing so\n",
    "                hard. He's trying to get it under control. His greasy, black\n",
    "                hair hanging down over his forehead. He's wearing an old,\n",
    "                faded green cardigan sweater, a threadbare gray scarf, thin\n",
    "                from years of use, hangs loosely around his neck.\n",
    "                He's sitting across from an overworked SOCIAL WORKER (50's),\n",
    "                African American. Her office is cramped and run-down in a\n",
    "                cramped and run-down building. Stacks of folders piled high\n",
    "                in front of her.\n",
    "                She just sits behind her desk, waiting for his laughing fit\n",
    "                to end, she's been through this before. Finally it subsides.\n",
    "                Arthur takes a deep breath, pauses to see if it's over.''',\n",
    "                '''Despite the laughter, there's real pain in his eyes.\n",
    "                Something broken in him. Looks like he hasn't slept in days.'''],\n",
    "\n",
    "        'paranthetical':['(on the phone)','(OS)'],\n",
    "        'int/ext':['INT'],\n",
    "        'location':['DEPT. OF HEALTH, OFFICE'],\n",
    "        'tod':['MORNING'],\n",
    "        'transition':['OVER BLACK:','FADE IN:']\n",
    "        },\n",
    "2:{\n",
    "\n",
    "        'dialog':\n",
    "        {\n",
    "        'JOKER':['''Yes ma'am.''',\n",
    "                '''I've been using it as a journal, but also a joke diary.\n",
    "                Funny thoughts or, or observations-- \n",
    "                Did I tell you I'm pursuing a career in stand-up comedy?''',\n",
    "                ''' I think I did.''',\n",
    "                '''I didn't realize you wanted to read it.'''],\n",
    "\n",
    "        'SOCIAL WORKER':[''' Arthur, last time I asked you to bring your journal with you. \n",
    "                        For these appointments. Do you have it?''',\n",
    "                        '''Can I see it?''',\n",
    "                        '''No. You didn't.''']},\n",
    "\n",
    "\n",
    "        'action':[\n",
    "                '''He reluctantly reaches into the pocket of his jacket hanging\n",
    "                on the chair behind him. Pulls out a weathered notebook.\n",
    "                Slides it across to her--''',\n",
    "                '''She's half-listening as she flips through his journal.''',\n",
    "                '''She doesn't respond, keeps flipping through his journal--'''\n",
    "                '''PAGES AND PAGES OF NOTES, neat, angry-looking handwriting.\n",
    "                Also, cut out photos from hardcore pornographic magazines and\n",
    "                some crude handmade drawings. A flash of anger crosses Arthur's face--\n",
    "                The social worker gives him a look, then reads something in\n",
    "                the pages that gives her pause--'''],\n",
    "\n",
    "        'paranthetical':['(dodging the subject)','''(impatient; she doesn'thave time for this)'''],\n",
    "        'int/ext':['INT'],\n",
    "        'location':['DEPT. OF HEALTH, OFFICE','HALL'],\n",
    "        'tod':['MORNING'],\n",
    "        'transition':[]\n",
    "    \n",
    "},\n",
    "\n",
    "\n",
    "}"
   ]
  },
  {
   "cell_type": "code",
   "execution_count": 9,
   "metadata": {},
   "outputs": [
    {
     "data": {
      "text/plain": [
       "['MORNING']"
      ]
     },
     "execution_count": 9,
     "metadata": {},
     "output_type": "execute_result"
    }
   ],
   "source": [
    "script[1]['tod']"
   ]
  },
  {
   "cell_type": "code",
   "execution_count": 25,
   "metadata": {},
   "outputs": [],
   "source": [
    "characters=[ 'ARTHUR',\n",
    " 'SOCIAL WORKER',\n",
    " 'ARTHUR',\n",
    " 'SOCIAL WORKER',\n",
    " 'MOM',\n",
    " 'ARTHUR',\n",
    " 'MOM',\n",
    " 'SOCIAL WORKER',\n",
    " ]\n",
    "\n",
    "dialog=[['--is it just me, or is it getting crazier out there?'],[\"It's certainly tense. People are upset, they're struggling.\"]]\n",
    "act=[\"Despite the laughter, there's real pain in his eyes.Something broken in him. Looks like he hasn't slept in days.\",\n",
    "     \" She just sits behind her desk, waiting for his laughing fit to end, she's been through this before. Finally it subsides.\"]\n",
    "location=['INT. DEPT. OF HEALTH, OFFICE - MORNING']"
   ]
  },
  {
   "cell_type": "code",
   "execution_count": 26,
   "metadata": {},
   "outputs": [],
   "source": [
    "test={}\n",
    "car=[]\n",
    "for c in characters:\n",
    "    if c not in car:\n",
    "        car.append(c)\n",
    "for character in car:\n",
    "    test.update({'dialog': dict(zip(car,dialog))})\n",
    "test.update({'action':[a for a in act]})\n",
    "test.update({'int/ext':[l.split() for l in location][0][0]})\n",
    "test.update({'location':' '.join([l.split() for l in location][0][1:-2])})\n",
    "test.update({'tod':[l.split() for l in location][0][-1]})\n",
    "test={1:test}"
   ]
  },
  {
   "cell_type": "code",
   "execution_count": 27,
   "metadata": {},
   "outputs": [
    {
     "data": {
      "text/plain": [
       "{1: {'dialog': {'ARTHUR': ['--is it just me, or is it getting crazier out there?'],\n",
       "   'SOCIAL WORKER': [\"It's certainly tense. People are upset, they're struggling.\"]},\n",
       "  'action': [\"Despite the laughter, there's real pain in his eyes.Something broken in him. Looks like he hasn't slept in days.\",\n",
       "   \" She just sits behind her desk, waiting for his laughing fit to end, she's been through this before. Finally it subsides.\"],\n",
       "  'int/ext': 'INT.',\n",
       "  'location': 'DEPT. OF HEALTH, OFFICE',\n",
       "  'tod': 'MORNING'}}"
      ]
     },
     "execution_count": 27,
     "metadata": {},
     "output_type": "execute_result"
    }
   ],
   "source": [
    "test"
   ]
  },
  {
   "cell_type": "code",
   "execution_count": 7,
   "metadata": {},
   "outputs": [],
   "source": [
    "s=[[\"CLOSE ON ARTHUR (30's), tears in his eyes from laughing so\",\n",
    "  \"hard. He's trying to get it under control. His greasy, black\",\n",
    "  \"hair hanging down over his forehead. He's wearing an old,\",\n",
    "  'faded green cardigan sweater, a threadbare gray scarf, thin',\n",
    "  'from years of use, hangs loosely around his neck.',\n",
    "  \"He's sitting across from an overworked SOCIAL WORKER (50's),\",\n",
    "  'Beat.',\n",
    "  'ARTHUR',\n",
    "  '--is it just me, or is it getting',\n",
    "  'crazier out there?',\n",
    "  \"Despite the laughter, there's real pain in his eyes.\",\n",
    "  \"Something broken in him. Looks like he hasn't slept in days.\",\n",
    "  'SOCIAL WORKER',\n",
    "  \"It's certainly tense. People are\",\n",
    "  \"upset, they're struggling. Looking\",\n",
    "  'for work. The garbage strike seems',\n",
    "  \"like it's been going on forever.\",\n",
    "  'These are tough times.',\n",
    "  '(then)',\n",
    "  \"How 'bout you. Have you been\",\n",
    "  'keeping up with your journal?',\n",
    "  'ARTHUR',\n",
    "  'Everyday.',\n",
    "  'SOCIAL WORKER',\n",
    "  'Great. Did you bring it with you?',\n",
    "  'Beat.',\n",
    "  '2.',\n",
    "  'ARTHUR',\n",
    "  '(dodging the subject)',\n",
    "  \"I'm sorry. Did I bring what?\",\n",
    "  'SOCIAL WORKER',\n",
    "  \"(impatient; she doesn't\",\n",
    "  'have time for this)',\n",
    "  'Arthur, last time I asked you to',\n",
    "  'bring your journal with you. For',\n",
    "  'these appointments. Do you have it?',\n",
    "  'ARTHUR',\n",
    "  \"Yes ma'am.\",\n",
    "  'Beat.',\n",
    "  'SOCIAL WORKER',\n",
    "  'Can I see it?',\n",
    "  'He reluctantly reaches into the pocket of his jacket hanging',\n",
    "  'on the chair behind him. Pulls out a weathered notebook.',\n",
    "  'Slides it across to her--',\n",
    "  'ARTHUR',\n",
    "  \"I've been using it as a journal,\",\n",
    "  'but also a joke diary. Funny',\n",
    "  'thoughts or, or observations-- Did',\n",
    "  \"I tell you I'm pursuing a career in\",\n",
    "  'stand-up comedy?',\n",
    "  \"She's half-listening as she flips through his journal.\",\n",
    "  'SOCIAL WORKER',\n",
    "  \"No. You didn't.\",\n",
    "  'ARTHUR',\n",
    "  'I think I did.',\n",
    "  \"She doesn't respond, keeps flipping through his journal--\",\n",
    "  'PAGES AND PAGES OF NOTES, neat, angry-looking handwriting.',\n",
    "  'Also, cut out photos from hardcore pornographic magazines and',\n",
    "  'some crude handmade drawings.',\n",
    "  \"A flash of anger crosses Arthur's face--\",\n",
    "  'ARTHUR',\n",
    "  \"I didn't realize you wanted to read\",\n",
    "  'it.',\n",
    "  'The social worker gives him a look, then reads something in',\n",
    "  'the pages that gives her pause--',\n",
    "  'SOCIAL WORKER',\n",
    "  'Did you feel mentally ill?',\n",
    "  'ARTHUR',\n",
    "  'I just don’t want to feel so bad',\n",
    "  'anymore.',\n",
    "  'And we HEAR \"TEMPTATION RAG\" playing on a broken down piano--'],\n",
    "   [\"CLOSE ON ARTHUR (30's), tears in his eyes from laughing so\",\n",
    "  \"hard. He's trying to get it under control. His greasy, black\",\n",
    "  \"hair hanging down over his forehead. He's wearing an old,\",\n",
    "  'faded green cardigan sweater, a threadbare gray scarf, thin',\n",
    "  'from years of use, hangs loosely around his neck.',\n",
    "  \"He's sitting across from an overworked SOCIAL WORKER (50's),\",\n",
    "  'Beat.',\n",
    "  'ARTHUR',\n",
    "  '--is it just me, or is it getting',\n",
    "  'crazier out there?',\n",
    "  \"Despite the laughter, there's real pain in his eyes.\",\n",
    "  \"Something broken in him. Looks like he hasn't slept in days.\",\n",
    "  'SOCIAL WORKER',\n",
    "  \"It's certainly tense. People are\",\n",
    "  \"upset, they're struggling. Looking\",\n",
    "  'for work. The garbage strike seems',\n",
    "  \"like it's been going on forever.\",\n",
    "  'These are tough times.',\n",
    "  '(then)',\n",
    "  \"How 'bout you. Have you been\",\n",
    "  'keeping up with your journal?',\n",
    "  'ARTHUR',\n",
    "  'Everyday.',\n",
    "  'SOCIAL WORKER',\n",
    "  'Great. Did you bring it with you?',\n",
    "  'Beat.',\n",
    "  '2.',\n",
    "  'ARTHUR',\n",
    "  '(dodging the subject)',\n",
    "  \"I'm sorry. Did I bring what?\",\n",
    "  'SOCIAL WORKER',\n",
    "  \"(impatient; she doesn't\",\n",
    "  'have time for this)',\n",
    "  'Arthur, last time I asked you to',\n",
    "  'bring your journal with you. For',\n",
    "  'these appointments. Do you have it?',\n",
    "  'ARTHUR',\n",
    "  \"Yes ma'am.\",\n",
    "  'Beat.',\n",
    "  'SOCIAL WORKER',\n",
    "  'Can I see it?',\n",
    "  'He reluctantly reaches into the pocket of his jacket hanging',\n",
    "  'on the chair behind him. Pulls out a weathered notebook.',\n",
    "  'Slides it across to her--',\n",
    "  'ARTHUR',\n",
    "  \"I've been using it as a journal,\",\n",
    "  'but also a joke diary. Funny',\n",
    "  'thoughts or, or observations-- Did',\n",
    "  \"I tell you I'm pursuing a career in\",\n",
    "  'stand-up comedy?',\n",
    "  \"She's half-listening as she flips through his journal.\",\n",
    "  'SOCIAL WORKER',\n",
    "  \"No. You didn't.\",\n",
    "  'ARTHUR',\n",
    "  'I think I did.',\n",
    "  \"She doesn't respond, keeps flipping through his journal--\",\n",
    "  'PAGES AND PAGES OF NOTES, neat, angry-looking handwriting.',\n",
    "  'Also, cut out photos from hardcore pornographic magazines and',\n",
    "  'some crude handmade drawings.',\n",
    "  \"A flash of anger crosses Arthur's face--\",\n",
    "  'ARTHUR',\n",
    "  \"I didn't realize you wanted to read\",\n",
    "  'it.',\n",
    "  'The social worker gives him a look, then reads something in',\n",
    "  'the pages that gives her pause--',\n",
    "  'SOCIAL WORKER',\n",
    "  'Did you feel mentally ill?',\n",
    "  'ARTHUR',\n",
    "  'I just don’t want to feel so bad',\n",
    "  'anymore.',\n",
    "  'And we HEAR \"TEMPTATION RAG\" playing on a broken down piano--']]"
   ]
  },
  {
   "cell_type": "code",
   "execution_count": 4,
   "metadata": {},
   "outputs": [],
   "source": [
    "INT_EXT = ['INT.', 'EXT.', 'INT/EXT.', 'EXT/INT.']\n",
    "TOD = ['AFTERNOON', 'CONTINUOUS', 'DAWN', 'DAY', 'DUSK',\n",
    "        'EVENING', 'LATER', 'MORNING', 'NIGHT', 'NOON', 'SAME']\n",
    "TRANSITIONS = ['BACK TO:', 'CUT TO:', 'DISSOLVE TO:', 'FADE IN:', 'CUT BACK TO:'\n",
    "                'FADE OUT:', 'FADE TO:', 'JUMP CUT TO:', 'MATCH CUT TO:', 'TITLE:',\n",
    "                'SMASH CUT TO:', 'TIME CUT:', 'WIPE TO:', 'CROSSFADE:', 'OVER BLACK:', 'CUT TO BLACK',\n",
    "                'FADE TO:BLACK', 'FLASH CUT:', 'LAP DISSOLVE:', 'MATCH DISSOLVE TO:', 'SUPER:', 'IRIS OUT:']\n",
    "SHOTS = ['AERIAL SHOT', 'ANGLE ON',  'CLOSE ON', 'CLOSER ANGLE', 'CONTINUOUS',\n",
    "            'CONTRAZOOM', 'CRAWL',  'ESTABLISHING SHOT',\n",
    "            'EXTREMELY LONG SHOT (XLS):', 'FAVOR ON','HEAR LAUGHTER.',\n",
    "            'FLASHBACK:', 'FREEZE FRAME:', 'INSERT','DAYS LATER'\n",
    "            'INTO FRAME:', 'INTO VIEW:', 'MOS', 'O.C. / O.S.',\n",
    "            'POV', 'PULL BACK:', 'PULL FOCUS:', 'PUSH IN:',\n",
    "            'REVERSE ANGLE',  'SPLIT SCREEN SHOT:', 'STOCK SHOT:',\n",
    "            'TIGHT ON', 'TIME CUT', 'V.O.', 'ZOOM:']"
   ]
  },
  {
   "cell_type": "code",
   "execution_count": null,
   "metadata": {},
   "outputs": [],
   "source": [
    "chars=[]\n",
    "for i in s:\n",
    "    chars.append([c for c in i if len(c)<16 and \n",
    "                  c.isupper() and \n",
    "                  len(c)<15 and \n",
    "                  c not in TRANSITIONS and \n",
    "                  c.split()[0] not in INT_EXT])\n",
    "chars\n",
    "        "
   ]
  },
  {
   "cell_type": "code",
   "execution_count": 121,
   "metadata": {},
   "outputs": [],
   "source": [
    "with open('text.txt', 'r') as f:\n",
    "    text=f.readlines()"
   ]
  },
  {
   "cell_type": "code",
   "execution_count": 1,
   "metadata": {},
   "outputs": [],
   "source": [
    "from sklearn.feature_extraction.text import CountVectorizer"
   ]
  },
  {
   "cell_type": "code",
   "execution_count": 59,
   "metadata": {},
   "outputs": [],
   "source": [
    "cv=CountVectorizer()"
   ]
  },
  {
   "cell_type": "code",
   "execution_count": 66,
   "metadata": {},
   "outputs": [],
   "source": [
    "bow=cv.fit_transform([\n",
    "                '''He reluctantly reaches into the pocket'.He wearing an old reluctant'''])"
   ]
  },
  {
   "cell_type": "code",
   "execution_count": 67,
   "metadata": {},
   "outputs": [
    {
     "data": {
      "text/plain": [
       "array([[1, 2, 1, 1, 1, 1, 1, 1, 1, 1]], dtype=int64)"
      ]
     },
     "execution_count": 67,
     "metadata": {},
     "output_type": "execute_result"
    }
   ],
   "source": [
    "bow.toarray()"
   ]
  },
  {
   "cell_type": "code",
   "execution_count": 68,
   "metadata": {},
   "outputs": [
    {
     "data": {
      "text/plain": [
       "array([[1, 1, 0, 1, 1, 0, 0, 0, 0, 0]], dtype=int64)"
      ]
     },
     "execution_count": 68,
     "metadata": {},
     "output_type": "execute_result"
    }
   ],
   "source": [
    "cv.transform(['''He's not,but looks like an old pocket''']).toarray()"
   ]
  },
  {
   "cell_type": "code",
   "execution_count": 69,
   "metadata": {},
   "outputs": [
    {
     "data": {
      "text/plain": [
       "{'he': 1,\n",
       " 'reluctantly': 7,\n",
       " 'reaches': 5,\n",
       " 'into': 2,\n",
       " 'the': 8,\n",
       " 'pocket': 4,\n",
       " 'wearing': 9,\n",
       " 'an': 0,\n",
       " 'old': 3,\n",
       " 'reluctant': 6}"
      ]
     },
     "execution_count": 69,
     "metadata": {},
     "output_type": "execute_result"
    }
   ],
   "source": [
    "cv.vocabulary_"
   ]
  },
  {
   "cell_type": "code",
   "execution_count": 1,
   "metadata": {},
   "outputs": [],
   "source": [
    "from pydantic import BaseModel, Field\n",
    "from typing import Optional,List\n",
    "from datetime import datetime\n"
   ]
  },
  {
   "cell_type": "code",
   "execution_count": 12,
   "metadata": {},
   "outputs": [],
   "source": [
    "class Address(BaseModel):\n",
    "    street:str\n",
    "    city:str\n",
    "    state:str\n",
    "    zip:str= Field(min_length=5,max_length=5)"
   ]
  },
  {
   "cell_type": "code",
   "execution_count": 31,
   "metadata": {},
   "outputs": [],
   "source": [
    "class User(BaseModel):\n",
    "    id:int\n",
    "    name:str\n",
    "    age:int\n",
    "    hobbies:Optional[List[str]]=None \n",
    "    date:Optional[datetime]\n",
    "    address:Address\n",
    "    has_pet:bool\n",
    "    "
   ]
  },
  {
   "cell_type": "code",
   "execution_count": 68,
   "metadata": {},
   "outputs": [],
   "source": [
    "user=User(\n",
    "    id='1',\n",
    "    name=\"john\",\n",
    "    age=45,\n",
    "    hobbies=[\"soccer\"],\n",
    "    date='2019-02-11 12:33',\n",
    "    address={\n",
    "        'street':'2555 2nd street',\n",
    "        'city':'Brooklyn',\n",
    "        'state': 'NY',\n",
    "        'zip':'13333'},\n",
    "    has_pet=True)"
   ]
  },
  {
   "cell_type": "code",
   "execution_count": 69,
   "metadata": {},
   "outputs": [
    {
     "data": {
      "text/plain": [
       "{'id': 1,\n",
       " 'name': 'john',\n",
       " 'age': 45,\n",
       " 'hobbies': ['soccer'],\n",
       " 'date': datetime.datetime(2019, 2, 11, 12, 33),\n",
       " 'address': {'street': '2555 2nd street',\n",
       "  'city': 'Brooklyn',\n",
       "  'state': 'NY',\n",
       "  'zip': '13333'},\n",
       " 'has_pet': True}"
      ]
     },
     "execution_count": 69,
     "metadata": {},
     "output_type": "execute_result"
    }
   ],
   "source": [
    "user.dict()"
   ]
  },
  {
   "cell_type": "code",
   "execution_count": 156,
   "metadata": {},
   "outputs": [],
   "source": [
    "data=[\n",
    "    {'id': 1,\n",
    "'name': 'john',\n",
    "'age': 45,\n",
    "'hobbies': ['soccer'],\n",
    "'date': datetime(2019, 2, 11, 12, 33),\n",
    "'address': {'street': '2555 2nd street',\n",
    "'city': 'Brooklyn',\n",
    "'state': 'NY',\n",
    "'zip': '13333'},\n",
    "'has_pet':True},\n",
    "    \n",
    "{'id': 2,\n",
    "'name': 'annn',\n",
    "'age': 35,\n",
    "'hobbies': ['drawing', 'reading'],\n",
    "'date': datetime(2014, 2, 12, 14, 34),\n",
    "'address': {'street': '254 ray street',\n",
    "'city': 'nyc',\n",
    "'state': 'NY',\n",
    "'zip': '10333'},\n",
    "'has_pet':False}]\n",
    "    "
   ]
  },
  {
   "cell_type": "code",
   "execution_count": 159,
   "metadata": {},
   "outputs": [],
   "source": [
    "user=[User(**d) for d in data]"
   ]
  },
  {
   "cell_type": "code",
   "execution_count": 160,
   "metadata": {},
   "outputs": [
    {
     "data": {
      "text/plain": [
       "[{'title': 'User',\n",
       "  'type': 'object',\n",
       "  'properties': {'id': {'title': 'Id', 'type': 'integer'},\n",
       "   'name': {'title': 'Name', 'type': 'string'},\n",
       "   'age': {'title': 'Age', 'type': 'integer'},\n",
       "   'hobbies': {'title': 'Hobbies',\n",
       "    'type': 'array',\n",
       "    'items': {'type': 'string'}},\n",
       "   'date': {'title': 'Date', 'type': 'string', 'format': 'date-time'},\n",
       "   'address': {'$ref': '#/definitions/Address'},\n",
       "   'has_pet': {'title': 'Has Pet', 'type': 'boolean'}},\n",
       "  'required': ['id', 'name', 'age', 'address', 'has_pet'],\n",
       "  'definitions': {'Address': {'title': 'Address',\n",
       "    'type': 'object',\n",
       "    'properties': {'street': {'title': 'Street', 'type': 'string'},\n",
       "     'city': {'title': 'City', 'type': 'string'},\n",
       "     'state': {'title': 'State', 'type': 'string'},\n",
       "     'zip': {'title': 'Zip',\n",
       "      'maxLength': 5,\n",
       "      'minLength': 5,\n",
       "      'type': 'string'}},\n",
       "    'required': ['street', 'city', 'state', 'zip']}}},\n",
       " {'title': 'User',\n",
       "  'type': 'object',\n",
       "  'properties': {'id': {'title': 'Id', 'type': 'integer'},\n",
       "   'name': {'title': 'Name', 'type': 'string'},\n",
       "   'age': {'title': 'Age', 'type': 'integer'},\n",
       "   'hobbies': {'title': 'Hobbies',\n",
       "    'type': 'array',\n",
       "    'items': {'type': 'string'}},\n",
       "   'date': {'title': 'Date', 'type': 'string', 'format': 'date-time'},\n",
       "   'address': {'$ref': '#/definitions/Address'},\n",
       "   'has_pet': {'title': 'Has Pet', 'type': 'boolean'}},\n",
       "  'required': ['id', 'name', 'age', 'address', 'has_pet'],\n",
       "  'definitions': {'Address': {'title': 'Address',\n",
       "    'type': 'object',\n",
       "    'properties': {'street': {'title': 'Street', 'type': 'string'},\n",
       "     'city': {'title': 'City', 'type': 'string'},\n",
       "     'state': {'title': 'State', 'type': 'string'},\n",
       "     'zip': {'title': 'Zip',\n",
       "      'maxLength': 5,\n",
       "      'minLength': 5,\n",
       "      'type': 'string'}},\n",
       "    'required': ['street', 'city', 'state', 'zip']}}}]"
      ]
     },
     "execution_count": 160,
     "metadata": {},
     "output_type": "execute_result"
    }
   ],
   "source": [
    "user"
   ]
  },
  {
   "cell_type": "code",
   "execution_count": null,
   "metadata": {},
   "outputs": [],
   "source": []
  }
 ],
 "metadata": {
  "interpreter": {
   "hash": "a5f6085926496a50e79cd019ce9612e2f626b8ce0f0c79905112ce929c19eca7"
  },
  "kernelspec": {
   "display_name": "Python 3.9.5 ('venv': venv)",
   "language": "python",
   "name": "python3"
  },
  "language_info": {
   "codemirror_mode": {
    "name": "ipython",
    "version": 3
   },
   "file_extension": ".py",
   "mimetype": "text/x-python",
   "name": "python",
   "nbconvert_exporter": "python",
   "pygments_lexer": "ipython3",
   "version": "3.9.5"
  },
  "orig_nbformat": 4
 },
 "nbformat": 4,
 "nbformat_minor": 2
}

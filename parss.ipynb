{
 "cells": [
  {
   "cell_type": "code",
   "execution_count": 3,
   "metadata": {},
   "outputs": [],
   "source": [
    "script={\n",
    "1:{\n",
    "\n",
    "        'dialog':\n",
    "        {\n",
    "        'JOKER':['''--is it just me, or is it getting crazier out there?''',\n",
    "                '''Everyday.''',],\n",
    "\n",
    "        'SOCIAL WORKER':['''It's certainly tense. People are upset, they're struggling. Looking\n",
    "                        for work. The garbage strike seems like it's been going on forever. \n",
    "                        These are tough times. (then) How 'bout you. \n",
    "                        Have you been keeping up with your journal??''',\n",
    "                        '''Great. Did you bring it with you?''',]\n",
    "        },\n",
    "\n",
    "\n",
    "        'action':[\n",
    "                '''HEAR LAUGHTER.The sound of a man totally cracking up.''',\n",
    "                '''CLOSE ON ARTHUR (30's), tears in his eyes from laughing so\n",
    "                hard. He's trying to get it under control. His greasy, black\n",
    "                hair hanging down over his forehead. He's wearing an old,\n",
    "                faded green cardigan sweater, a threadbare gray scarf, thin\n",
    "                from years of use, hangs loosely around his neck.\n",
    "                He's sitting across from an overworked SOCIAL WORKER (50's),\n",
    "                African American. Her office is cramped and run-down in a\n",
    "                cramped and run-down building. Stacks of folders piled high\n",
    "                in front of her.\n",
    "                She just sits behind her desk, waiting for his laughing fit\n",
    "                to end, she's been through this before. Finally it subsides.\n",
    "                Arthur takes a deep breath, pauses to see if it's over.''',\n",
    "                '''Despite the laughter, there's real pain in his eyes.\n",
    "                Something broken in him. Looks like he hasn't slept in days.'''],\n",
    "\n",
    "        'paranthetical':['(on the phone)','(OS)'],\n",
    "        'int/ext':['INT'],\n",
    "        'location':['DEPT. OF HEALTH, OFFICE'],\n",
    "        'tod':['MORNING'],\n",
    "        'transition':['OVER BLACK:','FADE IN:']\n",
    "        },\n",
    "2:{\n",
    "\n",
    "        'dialog':\n",
    "        {\n",
    "        'JOKER':['''Yes ma'am.''',\n",
    "                '''I've been using it as a journal, but also a joke diary.\n",
    "                Funny thoughts or, or observations-- \n",
    "                Did I tell you I'm pursuing a career in stand-up comedy?''',\n",
    "                ''' I think I did.''',\n",
    "                '''I didn't realize you wanted to read it.'''],\n",
    "\n",
    "        'SOCIAL WORKER':[''' Arthur, last time I asked you to bring your journal with you. \n",
    "                        For these appointments. Do you have it?''',\n",
    "                        '''Can I see it?''',\n",
    "                        '''No. You didn't.''']},\n",
    "\n",
    "\n",
    "        'action':[\n",
    "                '''He reluctantly reaches into the pocket of his jacket hanging\n",
    "                on the chair behind him. Pulls out a weathered notebook.\n",
    "                Slides it across to her--''',\n",
    "                '''She's half-listening as she flips through his journal.''',\n",
    "                '''She doesn't respond, keeps flipping through his journal--'''\n",
    "                '''PAGES AND PAGES OF NOTES, neat, angry-looking handwriting.\n",
    "                Also, cut out photos from hardcore pornographic magazines and\n",
    "                some crude handmade drawings. A flash of anger crosses Arthur's face--\n",
    "                The social worker gives him a look, then reads something in\n",
    "                the pages that gives her pause--'''],\n",
    "\n",
    "        'paranthetical':['(dodging the subject)','''(impatient; she doesn'thave time for this)'''],\n",
    "        'int/ext':['INT'],\n",
    "        'location':['DEPT. OF HEALTH, OFFICE','HALL'],\n",
    "        'tod':['MORNING'],\n",
    "        'transition':[]\n",
    "    \n",
    "},\n",
    "\n",
    "\n",
    "}"
   ]
  },
  {
   "cell_type": "code",
   "execution_count": 9,
   "metadata": {},
   "outputs": [
    {
     "data": {
      "text/plain": [
       "['MORNING']"
      ]
     },
     "execution_count": 9,
     "metadata": {},
     "output_type": "execute_result"
    }
   ],
   "source": [
    "script[1]['tod']"
   ]
  },
  {
   "cell_type": "code",
   "execution_count": 25,
   "metadata": {},
   "outputs": [],
   "source": [
    "characters=[ 'ARTHUR',\n",
    " 'SOCIAL WORKER',\n",
    " 'ARTHUR',\n",
    " 'SOCIAL WORKER',\n",
    " 'MOM',\n",
    " 'ARTHUR',\n",
    " 'MOM',\n",
    " 'SOCIAL WORKER',\n",
    " ]\n",
    "\n",
    "dialog=[['--is it just me, or is it getting crazier out there?'],[\"It's certainly tense. People are upset, they're struggling.\"]]\n",
    "act=[\"Despite the laughter, there's real pain in his eyes.Something broken in him. Looks like he hasn't slept in days.\",\n",
    "     \" She just sits behind her desk, waiting for his laughing fit to end, she's been through this before. Finally it subsides.\"]\n",
    "location=['INT. DEPT. OF HEALTH, OFFICE - MORNING']"
   ]
  },
  {
   "cell_type": "code",
   "execution_count": 26,
   "metadata": {},
   "outputs": [],
   "source": [
    "test={}\n",
    "car=[]\n",
    "for c in characters:\n",
    "    if c not in car:\n",
    "        car.append(c)\n",
    "for character in car:\n",
    "    test.update({'dialog': dict(zip(car,dialog))})\n",
    "test.update({'action':[a for a in act]})\n",
    "test.update({'int/ext':[l.split() for l in location][0][0]})\n",
    "test.update({'location':' '.join([l.split() for l in location][0][1:-2])})\n",
    "test.update({'tod':[l.split() for l in location][0][-1]})\n",
    "test={1:test}"
   ]
  },
  {
   "cell_type": "code",
   "execution_count": 27,
   "metadata": {},
   "outputs": [
    {
     "data": {
      "text/plain": [
       "{1: {'dialog': {'ARTHUR': ['--is it just me, or is it getting crazier out there?'],\n",
       "   'SOCIAL WORKER': [\"It's certainly tense. People are upset, they're struggling.\"]},\n",
       "  'action': [\"Despite the laughter, there's real pain in his eyes.Something broken in him. Looks like he hasn't slept in days.\",\n",
       "   \" She just sits behind her desk, waiting for his laughing fit to end, she's been through this before. Finally it subsides.\"],\n",
       "  'int/ext': 'INT.',\n",
       "  'location': 'DEPT. OF HEALTH, OFFICE',\n",
       "  'tod': 'MORNING'}}"
      ]
     },
     "execution_count": 27,
     "metadata": {},
     "output_type": "execute_result"
    }
   ],
   "source": [
    "test"
   ]
  },
  {
   "cell_type": "code",
   "execution_count": 16,
   "metadata": {},
   "outputs": [
    {
     "data": {
      "text/plain": [
       "['ARTHUR', 'SOCIAL WORKER', 'MOM', 'AMANDA']"
      ]
     },
     "execution_count": 16,
     "metadata": {},
     "output_type": "execute_result"
    }
   ],
   "source": [
    "car"
   ]
  },
  {
   "cell_type": "code",
   "execution_count": 121,
   "metadata": {},
   "outputs": [],
   "source": [
    "with open('text.txt', 'r') as f:\n",
    "    text=f.readlines()"
   ]
  },
  {
   "cell_type": "code",
   "execution_count": 1,
   "metadata": {},
   "outputs": [],
   "source": [
    "from sklearn.feature_extraction.text import CountVectorizer"
   ]
  },
  {
   "cell_type": "code",
   "execution_count": 59,
   "metadata": {},
   "outputs": [],
   "source": [
    "cv=CountVectorizer()"
   ]
  },
  {
   "cell_type": "code",
   "execution_count": 66,
   "metadata": {},
   "outputs": [],
   "source": [
    "bow=cv.fit_transform([\n",
    "                '''He reluctantly reaches into the pocket'.He wearing an old reluctant'''])"
   ]
  },
  {
   "cell_type": "code",
   "execution_count": 67,
   "metadata": {},
   "outputs": [
    {
     "data": {
      "text/plain": [
       "array([[1, 2, 1, 1, 1, 1, 1, 1, 1, 1]], dtype=int64)"
      ]
     },
     "execution_count": 67,
     "metadata": {},
     "output_type": "execute_result"
    }
   ],
   "source": [
    "bow.toarray()"
   ]
  },
  {
   "cell_type": "code",
   "execution_count": 68,
   "metadata": {},
   "outputs": [
    {
     "data": {
      "text/plain": [
       "array([[1, 1, 0, 1, 1, 0, 0, 0, 0, 0]], dtype=int64)"
      ]
     },
     "execution_count": 68,
     "metadata": {},
     "output_type": "execute_result"
    }
   ],
   "source": [
    "cv.transform(['''He's not,but looks like an old pocket''']).toarray()"
   ]
  },
  {
   "cell_type": "code",
   "execution_count": 69,
   "metadata": {},
   "outputs": [
    {
     "data": {
      "text/plain": [
       "{'he': 1,\n",
       " 'reluctantly': 7,\n",
       " 'reaches': 5,\n",
       " 'into': 2,\n",
       " 'the': 8,\n",
       " 'pocket': 4,\n",
       " 'wearing': 9,\n",
       " 'an': 0,\n",
       " 'old': 3,\n",
       " 'reluctant': 6}"
      ]
     },
     "execution_count": 69,
     "metadata": {},
     "output_type": "execute_result"
    }
   ],
   "source": [
    "cv.vocabulary_"
   ]
  },
  {
   "cell_type": "code",
   "execution_count": null,
   "metadata": {},
   "outputs": [],
   "source": []
  }
 ],
 "metadata": {
  "interpreter": {
   "hash": "a5f6085926496a50e79cd019ce9612e2f626b8ce0f0c79905112ce929c19eca7"
  },
  "kernelspec": {
   "display_name": "Python 3.9.5 ('venv': venv)",
   "language": "python",
   "name": "python3"
  },
  "language_info": {
   "codemirror_mode": {
    "name": "ipython",
    "version": 3
   },
   "file_extension": ".py",
   "mimetype": "text/x-python",
   "name": "python",
   "nbconvert_exporter": "python",
   "pygments_lexer": "ipython3",
   "version": "3.9.5"
  },
  "orig_nbformat": 4
 },
 "nbformat": 4,
 "nbformat_minor": 2
}
